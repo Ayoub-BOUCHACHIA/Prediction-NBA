{
  "nbformat": 4,
  "nbformat_minor": 0,
  "metadata": {
    "colab": {
      "provenance": []
    },
    "kernelspec": {
      "name": "python3",
      "display_name": "Python 3"
    },
    "language_info": {
      "name": "python"
    }
  },
  "cells": [
    {
      "cell_type": "code",
      "source": [
        "from pandas import DataFrame, read_csv\n",
        "import matplotlib.pyplot as plt\n",
        "import pandas as pd\n",
        "import numpy as np"
      ],
      "metadata": {
        "id": "j1T08fJl0Z1K"
      },
      "execution_count": 90,
      "outputs": []
    },
    {
      "cell_type": "code",
      "source": [
        "# Lire les données (Le dataset récupéré à partir du site \"https://www.basketball-reference.com/playoffs/NBA_2023_games.html)\n",
        "df = pd.read_csv('/content/drive/MyDrive/sportsref_download - sportsref_download.xls.csv')\n",
        "df.head()"
      ],
      "metadata": {
        "id": "fVZ4t5D61GBF",
        "colab": {
          "base_uri": "https://localhost:8080/",
          "height": 206
        },
        "outputId": "abd6430f-d795-436d-e635-01f19b3fbc35"
      },
      "execution_count": 91,
      "outputs": [
        {
          "output_type": "execute_result",
          "data": {
            "text/plain": [
              "                Date Start (ET)        Visitor/Neutral    PTS  \\\n",
              "0  Sat, Apr 15, 2023      1:00p          Brooklyn Nets  101.0   \n",
              "1  Sat, Apr 15, 2023      3:30p          Atlanta Hawks   99.0   \n",
              "2  Sat, Apr 15, 2023      6:00p        New York Knicks  101.0   \n",
              "3  Sat, Apr 15, 2023      8:30p  Golden State Warriors  123.0   \n",
              "4  Sun, Apr 16, 2023      3:00p     Los Angeles Lakers  128.0   \n",
              "\n",
              "          Home/Neutral  PTS.1 Unnamed: 6 Unnamed: 7 Attend.  \\\n",
              "0   Philadelphia 76ers  121.0  Box Score        NaN  20,913   \n",
              "1       Boston Celtics  112.0  Box Score        NaN  19,156   \n",
              "2  Cleveland Cavaliers   97.0  Box Score        NaN  19,432   \n",
              "3     Sacramento Kings  126.0  Box Score        NaN  18,253   \n",
              "4    Memphis Grizzlies  112.0  Box Score        NaN  18,487   \n",
              "\n",
              "                        Arena  Notes  \n",
              "0          Wells Fargo Center    NaN  \n",
              "1                   TD Garden    NaN  \n",
              "2  Rocket Mortgage Fieldhouse    NaN  \n",
              "3             Golden 1 Center    NaN  \n",
              "4                 FedEx Forum    NaN  "
            ],
            "text/html": [
              "\n",
              "  <div id=\"df-687ef822-4ac2-47f9-8bc6-d759986d872d\">\n",
              "    <div class=\"colab-df-container\">\n",
              "      <div>\n",
              "<style scoped>\n",
              "    .dataframe tbody tr th:only-of-type {\n",
              "        vertical-align: middle;\n",
              "    }\n",
              "\n",
              "    .dataframe tbody tr th {\n",
              "        vertical-align: top;\n",
              "    }\n",
              "\n",
              "    .dataframe thead th {\n",
              "        text-align: right;\n",
              "    }\n",
              "</style>\n",
              "<table border=\"1\" class=\"dataframe\">\n",
              "  <thead>\n",
              "    <tr style=\"text-align: right;\">\n",
              "      <th></th>\n",
              "      <th>Date</th>\n",
              "      <th>Start (ET)</th>\n",
              "      <th>Visitor/Neutral</th>\n",
              "      <th>PTS</th>\n",
              "      <th>Home/Neutral</th>\n",
              "      <th>PTS.1</th>\n",
              "      <th>Unnamed: 6</th>\n",
              "      <th>Unnamed: 7</th>\n",
              "      <th>Attend.</th>\n",
              "      <th>Arena</th>\n",
              "      <th>Notes</th>\n",
              "    </tr>\n",
              "  </thead>\n",
              "  <tbody>\n",
              "    <tr>\n",
              "      <th>0</th>\n",
              "      <td>Sat, Apr 15, 2023</td>\n",
              "      <td>1:00p</td>\n",
              "      <td>Brooklyn Nets</td>\n",
              "      <td>101.0</td>\n",
              "      <td>Philadelphia 76ers</td>\n",
              "      <td>121.0</td>\n",
              "      <td>Box Score</td>\n",
              "      <td>NaN</td>\n",
              "      <td>20,913</td>\n",
              "      <td>Wells Fargo Center</td>\n",
              "      <td>NaN</td>\n",
              "    </tr>\n",
              "    <tr>\n",
              "      <th>1</th>\n",
              "      <td>Sat, Apr 15, 2023</td>\n",
              "      <td>3:30p</td>\n",
              "      <td>Atlanta Hawks</td>\n",
              "      <td>99.0</td>\n",
              "      <td>Boston Celtics</td>\n",
              "      <td>112.0</td>\n",
              "      <td>Box Score</td>\n",
              "      <td>NaN</td>\n",
              "      <td>19,156</td>\n",
              "      <td>TD Garden</td>\n",
              "      <td>NaN</td>\n",
              "    </tr>\n",
              "    <tr>\n",
              "      <th>2</th>\n",
              "      <td>Sat, Apr 15, 2023</td>\n",
              "      <td>6:00p</td>\n",
              "      <td>New York Knicks</td>\n",
              "      <td>101.0</td>\n",
              "      <td>Cleveland Cavaliers</td>\n",
              "      <td>97.0</td>\n",
              "      <td>Box Score</td>\n",
              "      <td>NaN</td>\n",
              "      <td>19,432</td>\n",
              "      <td>Rocket Mortgage Fieldhouse</td>\n",
              "      <td>NaN</td>\n",
              "    </tr>\n",
              "    <tr>\n",
              "      <th>3</th>\n",
              "      <td>Sat, Apr 15, 2023</td>\n",
              "      <td>8:30p</td>\n",
              "      <td>Golden State Warriors</td>\n",
              "      <td>123.0</td>\n",
              "      <td>Sacramento Kings</td>\n",
              "      <td>126.0</td>\n",
              "      <td>Box Score</td>\n",
              "      <td>NaN</td>\n",
              "      <td>18,253</td>\n",
              "      <td>Golden 1 Center</td>\n",
              "      <td>NaN</td>\n",
              "    </tr>\n",
              "    <tr>\n",
              "      <th>4</th>\n",
              "      <td>Sun, Apr 16, 2023</td>\n",
              "      <td>3:00p</td>\n",
              "      <td>Los Angeles Lakers</td>\n",
              "      <td>128.0</td>\n",
              "      <td>Memphis Grizzlies</td>\n",
              "      <td>112.0</td>\n",
              "      <td>Box Score</td>\n",
              "      <td>NaN</td>\n",
              "      <td>18,487</td>\n",
              "      <td>FedEx Forum</td>\n",
              "      <td>NaN</td>\n",
              "    </tr>\n",
              "  </tbody>\n",
              "</table>\n",
              "</div>\n",
              "      <button class=\"colab-df-convert\" onclick=\"convertToInteractive('df-687ef822-4ac2-47f9-8bc6-d759986d872d')\"\n",
              "              title=\"Convert this dataframe to an interactive table.\"\n",
              "              style=\"display:none;\">\n",
              "        \n",
              "  <svg xmlns=\"http://www.w3.org/2000/svg\" height=\"24px\"viewBox=\"0 0 24 24\"\n",
              "       width=\"24px\">\n",
              "    <path d=\"M0 0h24v24H0V0z\" fill=\"none\"/>\n",
              "    <path d=\"M18.56 5.44l.94 2.06.94-2.06 2.06-.94-2.06-.94-.94-2.06-.94 2.06-2.06.94zm-11 1L8.5 8.5l.94-2.06 2.06-.94-2.06-.94L8.5 2.5l-.94 2.06-2.06.94zm10 10l.94 2.06.94-2.06 2.06-.94-2.06-.94-.94-2.06-.94 2.06-2.06.94z\"/><path d=\"M17.41 7.96l-1.37-1.37c-.4-.4-.92-.59-1.43-.59-.52 0-1.04.2-1.43.59L10.3 9.45l-7.72 7.72c-.78.78-.78 2.05 0 2.83L4 21.41c.39.39.9.59 1.41.59.51 0 1.02-.2 1.41-.59l7.78-7.78 2.81-2.81c.8-.78.8-2.07 0-2.86zM5.41 20L4 18.59l7.72-7.72 1.47 1.35L5.41 20z\"/>\n",
              "  </svg>\n",
              "      </button>\n",
              "      \n",
              "  <style>\n",
              "    .colab-df-container {\n",
              "      display:flex;\n",
              "      flex-wrap:wrap;\n",
              "      gap: 12px;\n",
              "    }\n",
              "\n",
              "    .colab-df-convert {\n",
              "      background-color: #E8F0FE;\n",
              "      border: none;\n",
              "      border-radius: 50%;\n",
              "      cursor: pointer;\n",
              "      display: none;\n",
              "      fill: #1967D2;\n",
              "      height: 32px;\n",
              "      padding: 0 0 0 0;\n",
              "      width: 32px;\n",
              "    }\n",
              "\n",
              "    .colab-df-convert:hover {\n",
              "      background-color: #E2EBFA;\n",
              "      box-shadow: 0px 1px 2px rgba(60, 64, 67, 0.3), 0px 1px 3px 1px rgba(60, 64, 67, 0.15);\n",
              "      fill: #174EA6;\n",
              "    }\n",
              "\n",
              "    [theme=dark] .colab-df-convert {\n",
              "      background-color: #3B4455;\n",
              "      fill: #D2E3FC;\n",
              "    }\n",
              "\n",
              "    [theme=dark] .colab-df-convert:hover {\n",
              "      background-color: #434B5C;\n",
              "      box-shadow: 0px 1px 3px 1px rgba(0, 0, 0, 0.15);\n",
              "      filter: drop-shadow(0px 1px 2px rgba(0, 0, 0, 0.3));\n",
              "      fill: #FFFFFF;\n",
              "    }\n",
              "  </style>\n",
              "\n",
              "      <script>\n",
              "        const buttonEl =\n",
              "          document.querySelector('#df-687ef822-4ac2-47f9-8bc6-d759986d872d button.colab-df-convert');\n",
              "        buttonEl.style.display =\n",
              "          google.colab.kernel.accessAllowed ? 'block' : 'none';\n",
              "\n",
              "        async function convertToInteractive(key) {\n",
              "          const element = document.querySelector('#df-687ef822-4ac2-47f9-8bc6-d759986d872d');\n",
              "          const dataTable =\n",
              "            await google.colab.kernel.invokeFunction('convertToInteractive',\n",
              "                                                     [key], {});\n",
              "          if (!dataTable) return;\n",
              "\n",
              "          const docLinkHtml = 'Like what you see? Visit the ' +\n",
              "            '<a target=\"_blank\" href=https://colab.research.google.com/notebooks/data_table.ipynb>data table notebook</a>'\n",
              "            + ' to learn more about interactive tables.';\n",
              "          element.innerHTML = '';\n",
              "          dataTable['output_type'] = 'display_data';\n",
              "          await google.colab.output.renderOutput(dataTable, element);\n",
              "          const docLink = document.createElement('div');\n",
              "          docLink.innerHTML = docLinkHtml;\n",
              "          element.appendChild(docLink);\n",
              "        }\n",
              "      </script>\n",
              "    </div>\n",
              "  </div>\n",
              "  "
            ]
          },
          "metadata": {},
          "execution_count": 91
        }
      ]
    },
    {
      "cell_type": "markdown",
      "source": [
        "Les attributs présents dans le dataset sont les suivants :\n",
        "1.   Date : La date à laquelle le match a été joué.\n",
        "1.   Start (ET) : L'heure de début du match (heure de l'Est).\n",
        "1.   Visitor/Neutral : L'équipe visiteuse ou neutre (équipe qui joue à l'extérieur ou dans une arène neutre).\n",
        "1.   PTS1 : Le nombre de points marqués par l'équipe visiteuse ou neutre.\n",
        "1.   Home/Neutral : L'équipe à domicile ou neutre (équipe qui joue à domicile ou dans une arène neutre).\n",
        "1.   PTS2 : Le nombre de points marqués par l'équipe à domicile ou neutre.\n",
        "1.   Attend. : L'affluence du public lors du match (nombre de spectateurs présents).\n",
        "1.   Arena : Le nom de l'arène où le match a été joué.\n",
        "1.   Notes : Des notes ou informations supplémentaires sur le match.\n",
        "\n",
        "\n"
      ],
      "metadata": {
        "id": "4pnw-Ro8xRxT"
      }
    },
    {
      "cell_type": "code",
      "source": [
        "\"Le nombre de lignes dans l'ennsemblre de données : \", len(df)"
      ],
      "metadata": {
        "colab": {
          "base_uri": "https://localhost:8080/"
        },
        "id": "iHL3JeOm2EgE",
        "outputId": "166fbdbe-04fe-4ba0-bd94-106bacfd74b8"
      },
      "execution_count": 92,
      "outputs": [
        {
          "output_type": "execute_result",
          "data": {
            "text/plain": [
              "(\"Le nombre de lignes dans l'ennsemblre de données : \", 82)"
            ]
          },
          "metadata": {},
          "execution_count": 92
        }
      ]
    },
    {
      "cell_type": "markdown",
      "source": [
        "# ***Pré-traitement de données***"
      ],
      "metadata": {
        "id": "tlujTMx77-T-"
      }
    },
    {
      "cell_type": "code",
      "source": [
        "# Supprimer les colones  'Unnamed: 6', 'Unnamed: 7','Start (ET)', 'Attend.', 'Arena', 'Notes'\n",
        "df = df.drop(columns=['Unnamed: 6', 'Unnamed: 7','Start (ET)', 'Attend.', 'Arena', 'Notes'])\n",
        "df.columns"
      ],
      "metadata": {
        "id": "dNMh6fO9NvJX",
        "colab": {
          "base_uri": "https://localhost:8080/"
        },
        "outputId": "466dbae6-3beb-4411-dc63-95f6ac5187cb"
      },
      "execution_count": 93,
      "outputs": [
        {
          "output_type": "execute_result",
          "data": {
            "text/plain": [
              "Index(['Date', 'Visitor/Neutral', 'PTS', 'Home/Neutral', 'PTS.1'], dtype='object')"
            ]
          },
          "metadata": {},
          "execution_count": 93
        }
      ]
    },
    {
      "cell_type": "code",
      "source": [
        "# Remplacer les colonnes PTS et PTS.1 par une colonne de resultat (1 si l'équipe visiteuse gagne sinon 0)\n",
        "df['result'] = (df['PTS'] > df['PTS.1']).replace({True: 1, False: 0})"
      ],
      "metadata": {
        "id": "u1Dny4PwQ4BW"
      },
      "execution_count": 94,
      "outputs": []
    },
    {
      "cell_type": "code",
      "source": [
        "df = df.drop(columns=['PTS', 'PTS.1'])"
      ],
      "metadata": {
        "id": "J684B_XOP3pk"
      },
      "execution_count": 95,
      "outputs": []
    },
    {
      "cell_type": "code",
      "source": [
        "# Extraire le jour du mois\n",
        "df['day'] = pd.to_datetime(df[\"Date\"]).dt.day"
      ],
      "metadata": {
        "id": "pYK39p1Wr3NJ"
      },
      "execution_count": 96,
      "outputs": []
    },
    {
      "cell_type": "code",
      "source": [
        "# Extraire le ième jour de la semaine\n",
        "day_of_week = {\n",
        "'Monday' : 1,\n",
        "'Tuesday' : 2,\n",
        "'Wednesday': 3,\n",
        "'Thursday': 4,\n",
        "'Friday': 5,\n",
        "'Saturday': 6,\n",
        "'Sunday':7,\n",
        "}\n",
        "df['day_name'] = pd.to_datetime(df[\"Date\"]).dt.day_name().apply(lambda x : day_of_week[x])"
      ],
      "metadata": {
        "id": "wJJJc7JO6WVC"
      },
      "execution_count": 97,
      "outputs": []
    },
    {
      "cell_type": "code",
      "source": [
        "df = df.drop(columns=['Date'])"
      ],
      "metadata": {
        "id": "GjoAVBmu6c5H"
      },
      "execution_count": 98,
      "outputs": []
    },
    {
      "cell_type": "code",
      "source": [
        "# Supprimer les lignes où il n'y a rien comme information (None)\n",
        "df = df.dropna()"
      ],
      "metadata": {
        "id": "6Uj_Uum7QcJ0"
      },
      "execution_count": 99,
      "outputs": []
    },
    {
      "cell_type": "code",
      "source": [
        "len(df)"
      ],
      "metadata": {
        "colab": {
          "base_uri": "https://localhost:8080/"
        },
        "id": "zPrgooy92Nc0",
        "outputId": "662eab28-1158-4767-bf64-bfc8c26c343a"
      },
      "execution_count": 100,
      "outputs": [
        {
          "output_type": "execute_result",
          "data": {
            "text/plain": [
              "82"
            ]
          },
          "metadata": {},
          "execution_count": 100
        }
      ]
    },
    {
      "cell_type": "code",
      "source": [
        "df.head(10)"
      ],
      "metadata": {
        "colab": {
          "base_uri": "https://localhost:8080/",
          "height": 363
        },
        "id": "9CbO71ph7Lpd",
        "outputId": "0db379bd-9b04-4a82-ca80-726d40633667"
      },
      "execution_count": 101,
      "outputs": [
        {
          "output_type": "execute_result",
          "data": {
            "text/plain": [
              "          Visitor/Neutral         Home/Neutral  result  day  day_name\n",
              "0           Brooklyn Nets   Philadelphia 76ers       0   15         6\n",
              "1           Atlanta Hawks       Boston Celtics       0   15         6\n",
              "2         New York Knicks  Cleveland Cavaliers       1   15         6\n",
              "3   Golden State Warriors     Sacramento Kings       0   15         6\n",
              "4      Los Angeles Lakers    Memphis Grizzlies       1   16         7\n",
              "5              Miami Heat      Milwaukee Bucks       1   16         7\n",
              "6    Los Angeles Clippers         Phoenix Suns       1   16         7\n",
              "7  Minnesota Timberwolves       Denver Nuggets       0   16         7\n",
              "8           Brooklyn Nets   Philadelphia 76ers       0   17         1\n",
              "9   Golden State Warriors     Sacramento Kings       0   17         1"
            ],
            "text/html": [
              "\n",
              "  <div id=\"df-f1c8507b-1dba-4305-9ddc-dc3ec9b8b423\">\n",
              "    <div class=\"colab-df-container\">\n",
              "      <div>\n",
              "<style scoped>\n",
              "    .dataframe tbody tr th:only-of-type {\n",
              "        vertical-align: middle;\n",
              "    }\n",
              "\n",
              "    .dataframe tbody tr th {\n",
              "        vertical-align: top;\n",
              "    }\n",
              "\n",
              "    .dataframe thead th {\n",
              "        text-align: right;\n",
              "    }\n",
              "</style>\n",
              "<table border=\"1\" class=\"dataframe\">\n",
              "  <thead>\n",
              "    <tr style=\"text-align: right;\">\n",
              "      <th></th>\n",
              "      <th>Visitor/Neutral</th>\n",
              "      <th>Home/Neutral</th>\n",
              "      <th>result</th>\n",
              "      <th>day</th>\n",
              "      <th>day_name</th>\n",
              "    </tr>\n",
              "  </thead>\n",
              "  <tbody>\n",
              "    <tr>\n",
              "      <th>0</th>\n",
              "      <td>Brooklyn Nets</td>\n",
              "      <td>Philadelphia 76ers</td>\n",
              "      <td>0</td>\n",
              "      <td>15</td>\n",
              "      <td>6</td>\n",
              "    </tr>\n",
              "    <tr>\n",
              "      <th>1</th>\n",
              "      <td>Atlanta Hawks</td>\n",
              "      <td>Boston Celtics</td>\n",
              "      <td>0</td>\n",
              "      <td>15</td>\n",
              "      <td>6</td>\n",
              "    </tr>\n",
              "    <tr>\n",
              "      <th>2</th>\n",
              "      <td>New York Knicks</td>\n",
              "      <td>Cleveland Cavaliers</td>\n",
              "      <td>1</td>\n",
              "      <td>15</td>\n",
              "      <td>6</td>\n",
              "    </tr>\n",
              "    <tr>\n",
              "      <th>3</th>\n",
              "      <td>Golden State Warriors</td>\n",
              "      <td>Sacramento Kings</td>\n",
              "      <td>0</td>\n",
              "      <td>15</td>\n",
              "      <td>6</td>\n",
              "    </tr>\n",
              "    <tr>\n",
              "      <th>4</th>\n",
              "      <td>Los Angeles Lakers</td>\n",
              "      <td>Memphis Grizzlies</td>\n",
              "      <td>1</td>\n",
              "      <td>16</td>\n",
              "      <td>7</td>\n",
              "    </tr>\n",
              "    <tr>\n",
              "      <th>5</th>\n",
              "      <td>Miami Heat</td>\n",
              "      <td>Milwaukee Bucks</td>\n",
              "      <td>1</td>\n",
              "      <td>16</td>\n",
              "      <td>7</td>\n",
              "    </tr>\n",
              "    <tr>\n",
              "      <th>6</th>\n",
              "      <td>Los Angeles Clippers</td>\n",
              "      <td>Phoenix Suns</td>\n",
              "      <td>1</td>\n",
              "      <td>16</td>\n",
              "      <td>7</td>\n",
              "    </tr>\n",
              "    <tr>\n",
              "      <th>7</th>\n",
              "      <td>Minnesota Timberwolves</td>\n",
              "      <td>Denver Nuggets</td>\n",
              "      <td>0</td>\n",
              "      <td>16</td>\n",
              "      <td>7</td>\n",
              "    </tr>\n",
              "    <tr>\n",
              "      <th>8</th>\n",
              "      <td>Brooklyn Nets</td>\n",
              "      <td>Philadelphia 76ers</td>\n",
              "      <td>0</td>\n",
              "      <td>17</td>\n",
              "      <td>1</td>\n",
              "    </tr>\n",
              "    <tr>\n",
              "      <th>9</th>\n",
              "      <td>Golden State Warriors</td>\n",
              "      <td>Sacramento Kings</td>\n",
              "      <td>0</td>\n",
              "      <td>17</td>\n",
              "      <td>1</td>\n",
              "    </tr>\n",
              "  </tbody>\n",
              "</table>\n",
              "</div>\n",
              "      <button class=\"colab-df-convert\" onclick=\"convertToInteractive('df-f1c8507b-1dba-4305-9ddc-dc3ec9b8b423')\"\n",
              "              title=\"Convert this dataframe to an interactive table.\"\n",
              "              style=\"display:none;\">\n",
              "        \n",
              "  <svg xmlns=\"http://www.w3.org/2000/svg\" height=\"24px\"viewBox=\"0 0 24 24\"\n",
              "       width=\"24px\">\n",
              "    <path d=\"M0 0h24v24H0V0z\" fill=\"none\"/>\n",
              "    <path d=\"M18.56 5.44l.94 2.06.94-2.06 2.06-.94-2.06-.94-.94-2.06-.94 2.06-2.06.94zm-11 1L8.5 8.5l.94-2.06 2.06-.94-2.06-.94L8.5 2.5l-.94 2.06-2.06.94zm10 10l.94 2.06.94-2.06 2.06-.94-2.06-.94-.94-2.06-.94 2.06-2.06.94z\"/><path d=\"M17.41 7.96l-1.37-1.37c-.4-.4-.92-.59-1.43-.59-.52 0-1.04.2-1.43.59L10.3 9.45l-7.72 7.72c-.78.78-.78 2.05 0 2.83L4 21.41c.39.39.9.59 1.41.59.51 0 1.02-.2 1.41-.59l7.78-7.78 2.81-2.81c.8-.78.8-2.07 0-2.86zM5.41 20L4 18.59l7.72-7.72 1.47 1.35L5.41 20z\"/>\n",
              "  </svg>\n",
              "      </button>\n",
              "      \n",
              "  <style>\n",
              "    .colab-df-container {\n",
              "      display:flex;\n",
              "      flex-wrap:wrap;\n",
              "      gap: 12px;\n",
              "    }\n",
              "\n",
              "    .colab-df-convert {\n",
              "      background-color: #E8F0FE;\n",
              "      border: none;\n",
              "      border-radius: 50%;\n",
              "      cursor: pointer;\n",
              "      display: none;\n",
              "      fill: #1967D2;\n",
              "      height: 32px;\n",
              "      padding: 0 0 0 0;\n",
              "      width: 32px;\n",
              "    }\n",
              "\n",
              "    .colab-df-convert:hover {\n",
              "      background-color: #E2EBFA;\n",
              "      box-shadow: 0px 1px 2px rgba(60, 64, 67, 0.3), 0px 1px 3px 1px rgba(60, 64, 67, 0.15);\n",
              "      fill: #174EA6;\n",
              "    }\n",
              "\n",
              "    [theme=dark] .colab-df-convert {\n",
              "      background-color: #3B4455;\n",
              "      fill: #D2E3FC;\n",
              "    }\n",
              "\n",
              "    [theme=dark] .colab-df-convert:hover {\n",
              "      background-color: #434B5C;\n",
              "      box-shadow: 0px 1px 3px 1px rgba(0, 0, 0, 0.15);\n",
              "      filter: drop-shadow(0px 1px 2px rgba(0, 0, 0, 0.3));\n",
              "      fill: #FFFFFF;\n",
              "    }\n",
              "  </style>\n",
              "\n",
              "      <script>\n",
              "        const buttonEl =\n",
              "          document.querySelector('#df-f1c8507b-1dba-4305-9ddc-dc3ec9b8b423 button.colab-df-convert');\n",
              "        buttonEl.style.display =\n",
              "          google.colab.kernel.accessAllowed ? 'block' : 'none';\n",
              "\n",
              "        async function convertToInteractive(key) {\n",
              "          const element = document.querySelector('#df-f1c8507b-1dba-4305-9ddc-dc3ec9b8b423');\n",
              "          const dataTable =\n",
              "            await google.colab.kernel.invokeFunction('convertToInteractive',\n",
              "                                                     [key], {});\n",
              "          if (!dataTable) return;\n",
              "\n",
              "          const docLinkHtml = 'Like what you see? Visit the ' +\n",
              "            '<a target=\"_blank\" href=https://colab.research.google.com/notebooks/data_table.ipynb>data table notebook</a>'\n",
              "            + ' to learn more about interactive tables.';\n",
              "          element.innerHTML = '';\n",
              "          dataTable['output_type'] = 'display_data';\n",
              "          await google.colab.output.renderOutput(dataTable, element);\n",
              "          const docLink = document.createElement('div');\n",
              "          docLink.innerHTML = docLinkHtml;\n",
              "          element.appendChild(docLink);\n",
              "        }\n",
              "      </script>\n",
              "    </div>\n",
              "  </div>\n",
              "  "
            ]
          },
          "metadata": {},
          "execution_count": 101
        }
      ]
    },
    {
      "cell_type": "code",
      "source": [
        "# Encodage des chaînes de caractères en nombres entiers\n",
        "clubs ={ club:id for id,club in enumerate(set(list(df['Visitor/Neutral']) + list(df['Home/Neutral'])) )}\n",
        "df['Visitor/Neutral'] = df['Visitor/Neutral'].apply(lambda x: clubs[x])\n",
        "df['Home/Neutral'] = df['Home/Neutral'].apply(lambda x: clubs[x])"
      ],
      "metadata": {
        "id": "DDs08DY01VVc"
      },
      "execution_count": 102,
      "outputs": []
    },
    {
      "cell_type": "code",
      "source": [
        "df"
      ],
      "metadata": {
        "colab": {
          "base_uri": "https://localhost:8080/",
          "height": 423
        },
        "id": "IjsueEQG6-pe",
        "outputId": "d357c5de-adab-4c09-e892-fac67b7ae281"
      },
      "execution_count": 103,
      "outputs": [
        {
          "output_type": "execute_result",
          "data": {
            "text/plain": [
              "    Visitor/Neutral  Home/Neutral  result  day  day_name\n",
              "0                 7            10       0   15         6\n",
              "1                 9             1       0   15         6\n",
              "2                 2            14       1   15         6\n",
              "3                 8             4       0   15         6\n",
              "4                 6            11       1   16         7\n",
              "..              ...           ...     ...  ...       ...\n",
              "77                3             1       0   25         4\n",
              "78                5             6       0   26         5\n",
              "79                1             3       0   27         6\n",
              "80                6             5       0   28         7\n",
              "81                3             1       0   29         1\n",
              "\n",
              "[82 rows x 5 columns]"
            ],
            "text/html": [
              "\n",
              "  <div id=\"df-9a7fb2d1-089f-42d1-b006-450d783f998f\">\n",
              "    <div class=\"colab-df-container\">\n",
              "      <div>\n",
              "<style scoped>\n",
              "    .dataframe tbody tr th:only-of-type {\n",
              "        vertical-align: middle;\n",
              "    }\n",
              "\n",
              "    .dataframe tbody tr th {\n",
              "        vertical-align: top;\n",
              "    }\n",
              "\n",
              "    .dataframe thead th {\n",
              "        text-align: right;\n",
              "    }\n",
              "</style>\n",
              "<table border=\"1\" class=\"dataframe\">\n",
              "  <thead>\n",
              "    <tr style=\"text-align: right;\">\n",
              "      <th></th>\n",
              "      <th>Visitor/Neutral</th>\n",
              "      <th>Home/Neutral</th>\n",
              "      <th>result</th>\n",
              "      <th>day</th>\n",
              "      <th>day_name</th>\n",
              "    </tr>\n",
              "  </thead>\n",
              "  <tbody>\n",
              "    <tr>\n",
              "      <th>0</th>\n",
              "      <td>7</td>\n",
              "      <td>10</td>\n",
              "      <td>0</td>\n",
              "      <td>15</td>\n",
              "      <td>6</td>\n",
              "    </tr>\n",
              "    <tr>\n",
              "      <th>1</th>\n",
              "      <td>9</td>\n",
              "      <td>1</td>\n",
              "      <td>0</td>\n",
              "      <td>15</td>\n",
              "      <td>6</td>\n",
              "    </tr>\n",
              "    <tr>\n",
              "      <th>2</th>\n",
              "      <td>2</td>\n",
              "      <td>14</td>\n",
              "      <td>1</td>\n",
              "      <td>15</td>\n",
              "      <td>6</td>\n",
              "    </tr>\n",
              "    <tr>\n",
              "      <th>3</th>\n",
              "      <td>8</td>\n",
              "      <td>4</td>\n",
              "      <td>0</td>\n",
              "      <td>15</td>\n",
              "      <td>6</td>\n",
              "    </tr>\n",
              "    <tr>\n",
              "      <th>4</th>\n",
              "      <td>6</td>\n",
              "      <td>11</td>\n",
              "      <td>1</td>\n",
              "      <td>16</td>\n",
              "      <td>7</td>\n",
              "    </tr>\n",
              "    <tr>\n",
              "      <th>...</th>\n",
              "      <td>...</td>\n",
              "      <td>...</td>\n",
              "      <td>...</td>\n",
              "      <td>...</td>\n",
              "      <td>...</td>\n",
              "    </tr>\n",
              "    <tr>\n",
              "      <th>77</th>\n",
              "      <td>3</td>\n",
              "      <td>1</td>\n",
              "      <td>0</td>\n",
              "      <td>25</td>\n",
              "      <td>4</td>\n",
              "    </tr>\n",
              "    <tr>\n",
              "      <th>78</th>\n",
              "      <td>5</td>\n",
              "      <td>6</td>\n",
              "      <td>0</td>\n",
              "      <td>26</td>\n",
              "      <td>5</td>\n",
              "    </tr>\n",
              "    <tr>\n",
              "      <th>79</th>\n",
              "      <td>1</td>\n",
              "      <td>3</td>\n",
              "      <td>0</td>\n",
              "      <td>27</td>\n",
              "      <td>6</td>\n",
              "    </tr>\n",
              "    <tr>\n",
              "      <th>80</th>\n",
              "      <td>6</td>\n",
              "      <td>5</td>\n",
              "      <td>0</td>\n",
              "      <td>28</td>\n",
              "      <td>7</td>\n",
              "    </tr>\n",
              "    <tr>\n",
              "      <th>81</th>\n",
              "      <td>3</td>\n",
              "      <td>1</td>\n",
              "      <td>0</td>\n",
              "      <td>29</td>\n",
              "      <td>1</td>\n",
              "    </tr>\n",
              "  </tbody>\n",
              "</table>\n",
              "<p>82 rows × 5 columns</p>\n",
              "</div>\n",
              "      <button class=\"colab-df-convert\" onclick=\"convertToInteractive('df-9a7fb2d1-089f-42d1-b006-450d783f998f')\"\n",
              "              title=\"Convert this dataframe to an interactive table.\"\n",
              "              style=\"display:none;\">\n",
              "        \n",
              "  <svg xmlns=\"http://www.w3.org/2000/svg\" height=\"24px\"viewBox=\"0 0 24 24\"\n",
              "       width=\"24px\">\n",
              "    <path d=\"M0 0h24v24H0V0z\" fill=\"none\"/>\n",
              "    <path d=\"M18.56 5.44l.94 2.06.94-2.06 2.06-.94-2.06-.94-.94-2.06-.94 2.06-2.06.94zm-11 1L8.5 8.5l.94-2.06 2.06-.94-2.06-.94L8.5 2.5l-.94 2.06-2.06.94zm10 10l.94 2.06.94-2.06 2.06-.94-2.06-.94-.94-2.06-.94 2.06-2.06.94z\"/><path d=\"M17.41 7.96l-1.37-1.37c-.4-.4-.92-.59-1.43-.59-.52 0-1.04.2-1.43.59L10.3 9.45l-7.72 7.72c-.78.78-.78 2.05 0 2.83L4 21.41c.39.39.9.59 1.41.59.51 0 1.02-.2 1.41-.59l7.78-7.78 2.81-2.81c.8-.78.8-2.07 0-2.86zM5.41 20L4 18.59l7.72-7.72 1.47 1.35L5.41 20z\"/>\n",
              "  </svg>\n",
              "      </button>\n",
              "      \n",
              "  <style>\n",
              "    .colab-df-container {\n",
              "      display:flex;\n",
              "      flex-wrap:wrap;\n",
              "      gap: 12px;\n",
              "    }\n",
              "\n",
              "    .colab-df-convert {\n",
              "      background-color: #E8F0FE;\n",
              "      border: none;\n",
              "      border-radius: 50%;\n",
              "      cursor: pointer;\n",
              "      display: none;\n",
              "      fill: #1967D2;\n",
              "      height: 32px;\n",
              "      padding: 0 0 0 0;\n",
              "      width: 32px;\n",
              "    }\n",
              "\n",
              "    .colab-df-convert:hover {\n",
              "      background-color: #E2EBFA;\n",
              "      box-shadow: 0px 1px 2px rgba(60, 64, 67, 0.3), 0px 1px 3px 1px rgba(60, 64, 67, 0.15);\n",
              "      fill: #174EA6;\n",
              "    }\n",
              "\n",
              "    [theme=dark] .colab-df-convert {\n",
              "      background-color: #3B4455;\n",
              "      fill: #D2E3FC;\n",
              "    }\n",
              "\n",
              "    [theme=dark] .colab-df-convert:hover {\n",
              "      background-color: #434B5C;\n",
              "      box-shadow: 0px 1px 3px 1px rgba(0, 0, 0, 0.15);\n",
              "      filter: drop-shadow(0px 1px 2px rgba(0, 0, 0, 0.3));\n",
              "      fill: #FFFFFF;\n",
              "    }\n",
              "  </style>\n",
              "\n",
              "      <script>\n",
              "        const buttonEl =\n",
              "          document.querySelector('#df-9a7fb2d1-089f-42d1-b006-450d783f998f button.colab-df-convert');\n",
              "        buttonEl.style.display =\n",
              "          google.colab.kernel.accessAllowed ? 'block' : 'none';\n",
              "\n",
              "        async function convertToInteractive(key) {\n",
              "          const element = document.querySelector('#df-9a7fb2d1-089f-42d1-b006-450d783f998f');\n",
              "          const dataTable =\n",
              "            await google.colab.kernel.invokeFunction('convertToInteractive',\n",
              "                                                     [key], {});\n",
              "          if (!dataTable) return;\n",
              "\n",
              "          const docLinkHtml = 'Like what you see? Visit the ' +\n",
              "            '<a target=\"_blank\" href=https://colab.research.google.com/notebooks/data_table.ipynb>data table notebook</a>'\n",
              "            + ' to learn more about interactive tables.';\n",
              "          element.innerHTML = '';\n",
              "          dataTable['output_type'] = 'display_data';\n",
              "          await google.colab.output.renderOutput(dataTable, element);\n",
              "          const docLink = document.createElement('div');\n",
              "          docLink.innerHTML = docLinkHtml;\n",
              "          element.appendChild(docLink);\n",
              "        }\n",
              "      </script>\n",
              "    </div>\n",
              "  </div>\n",
              "  "
            ]
          },
          "metadata": {},
          "execution_count": 103
        }
      ]
    },
    {
      "cell_type": "markdown",
      "source": [
        "## ***Normalization de données***"
      ],
      "metadata": {
        "id": "OJzcx11J70ti"
      }
    },
    {
      "cell_type": "markdown",
      "source": [
        "![normalization.png](data:image/png;base64,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)"
      ],
      "metadata": {
        "id": "6EyFM3lYkNZU"
      }
    },
    {
      "cell_type": "code",
      "source": [
        "def normalization_minmax(x,min,max):\n",
        "  return (float(x)-float(min))/(float(max)-float(min))"
      ],
      "metadata": {
        "id": "3iEzSEa1A1-r"
      },
      "execution_count": 104,
      "outputs": []
    },
    {
      "cell_type": "code",
      "source": [
        "min_max_dict = {}\n",
        "for key in set(df.columns) - {'result'}:\n",
        "  min  = df[key].min()\n",
        "  max = df[key].max()\n",
        "  min_max_dict[key] = {\n",
        "      'min': min,\n",
        "      'max':max,\n",
        "  }\n",
        "  df[key] = df[key].apply(lambda x: normalization_minmax(x,df[key].min(), df[key].max()))"
      ],
      "metadata": {
        "id": "r25EwgITBIpv"
      },
      "execution_count": 105,
      "outputs": []
    },
    {
      "cell_type": "code",
      "source": [
        "df"
      ],
      "metadata": {
        "colab": {
          "base_uri": "https://localhost:8080/",
          "height": 423
        },
        "id": "np6UkmfTGeMv",
        "outputId": "0e279f42-8221-4f0f-952c-369911f11770"
      },
      "execution_count": 106,
      "outputs": [
        {
          "output_type": "execute_result",
          "data": {
            "text/plain": [
              "    Visitor/Neutral  Home/Neutral  result       day  day_name\n",
              "0          0.466667      0.666667       0  0.482759  0.833333\n",
              "1          0.600000      0.066667       0  0.482759  0.833333\n",
              "2          0.133333      0.933333       1  0.482759  0.833333\n",
              "3          0.533333      0.266667       0  0.482759  0.833333\n",
              "4          0.400000      0.733333       1  0.517241  1.000000\n",
              "..              ...           ...     ...       ...       ...\n",
              "77         0.200000      0.066667       0  0.827586  0.500000\n",
              "78         0.333333      0.400000       0  0.862069  0.666667\n",
              "79         0.066667      0.200000       0  0.896552  0.833333\n",
              "80         0.400000      0.333333       0  0.931034  1.000000\n",
              "81         0.200000      0.066667       0  0.965517  0.000000\n",
              "\n",
              "[82 rows x 5 columns]"
            ],
            "text/html": [
              "\n",
              "  <div id=\"df-972f5208-741f-474a-8953-89931c8edca1\">\n",
              "    <div class=\"colab-df-container\">\n",
              "      <div>\n",
              "<style scoped>\n",
              "    .dataframe tbody tr th:only-of-type {\n",
              "        vertical-align: middle;\n",
              "    }\n",
              "\n",
              "    .dataframe tbody tr th {\n",
              "        vertical-align: top;\n",
              "    }\n",
              "\n",
              "    .dataframe thead th {\n",
              "        text-align: right;\n",
              "    }\n",
              "</style>\n",
              "<table border=\"1\" class=\"dataframe\">\n",
              "  <thead>\n",
              "    <tr style=\"text-align: right;\">\n",
              "      <th></th>\n",
              "      <th>Visitor/Neutral</th>\n",
              "      <th>Home/Neutral</th>\n",
              "      <th>result</th>\n",
              "      <th>day</th>\n",
              "      <th>day_name</th>\n",
              "    </tr>\n",
              "  </thead>\n",
              "  <tbody>\n",
              "    <tr>\n",
              "      <th>0</th>\n",
              "      <td>0.466667</td>\n",
              "      <td>0.666667</td>\n",
              "      <td>0</td>\n",
              "      <td>0.482759</td>\n",
              "      <td>0.833333</td>\n",
              "    </tr>\n",
              "    <tr>\n",
              "      <th>1</th>\n",
              "      <td>0.600000</td>\n",
              "      <td>0.066667</td>\n",
              "      <td>0</td>\n",
              "      <td>0.482759</td>\n",
              "      <td>0.833333</td>\n",
              "    </tr>\n",
              "    <tr>\n",
              "      <th>2</th>\n",
              "      <td>0.133333</td>\n",
              "      <td>0.933333</td>\n",
              "      <td>1</td>\n",
              "      <td>0.482759</td>\n",
              "      <td>0.833333</td>\n",
              "    </tr>\n",
              "    <tr>\n",
              "      <th>3</th>\n",
              "      <td>0.533333</td>\n",
              "      <td>0.266667</td>\n",
              "      <td>0</td>\n",
              "      <td>0.482759</td>\n",
              "      <td>0.833333</td>\n",
              "    </tr>\n",
              "    <tr>\n",
              "      <th>4</th>\n",
              "      <td>0.400000</td>\n",
              "      <td>0.733333</td>\n",
              "      <td>1</td>\n",
              "      <td>0.517241</td>\n",
              "      <td>1.000000</td>\n",
              "    </tr>\n",
              "    <tr>\n",
              "      <th>...</th>\n",
              "      <td>...</td>\n",
              "      <td>...</td>\n",
              "      <td>...</td>\n",
              "      <td>...</td>\n",
              "      <td>...</td>\n",
              "    </tr>\n",
              "    <tr>\n",
              "      <th>77</th>\n",
              "      <td>0.200000</td>\n",
              "      <td>0.066667</td>\n",
              "      <td>0</td>\n",
              "      <td>0.827586</td>\n",
              "      <td>0.500000</td>\n",
              "    </tr>\n",
              "    <tr>\n",
              "      <th>78</th>\n",
              "      <td>0.333333</td>\n",
              "      <td>0.400000</td>\n",
              "      <td>0</td>\n",
              "      <td>0.862069</td>\n",
              "      <td>0.666667</td>\n",
              "    </tr>\n",
              "    <tr>\n",
              "      <th>79</th>\n",
              "      <td>0.066667</td>\n",
              "      <td>0.200000</td>\n",
              "      <td>0</td>\n",
              "      <td>0.896552</td>\n",
              "      <td>0.833333</td>\n",
              "    </tr>\n",
              "    <tr>\n",
              "      <th>80</th>\n",
              "      <td>0.400000</td>\n",
              "      <td>0.333333</td>\n",
              "      <td>0</td>\n",
              "      <td>0.931034</td>\n",
              "      <td>1.000000</td>\n",
              "    </tr>\n",
              "    <tr>\n",
              "      <th>81</th>\n",
              "      <td>0.200000</td>\n",
              "      <td>0.066667</td>\n",
              "      <td>0</td>\n",
              "      <td>0.965517</td>\n",
              "      <td>0.000000</td>\n",
              "    </tr>\n",
              "  </tbody>\n",
              "</table>\n",
              "<p>82 rows × 5 columns</p>\n",
              "</div>\n",
              "      <button class=\"colab-df-convert\" onclick=\"convertToInteractive('df-972f5208-741f-474a-8953-89931c8edca1')\"\n",
              "              title=\"Convert this dataframe to an interactive table.\"\n",
              "              style=\"display:none;\">\n",
              "        \n",
              "  <svg xmlns=\"http://www.w3.org/2000/svg\" height=\"24px\"viewBox=\"0 0 24 24\"\n",
              "       width=\"24px\">\n",
              "    <path d=\"M0 0h24v24H0V0z\" fill=\"none\"/>\n",
              "    <path d=\"M18.56 5.44l.94 2.06.94-2.06 2.06-.94-2.06-.94-.94-2.06-.94 2.06-2.06.94zm-11 1L8.5 8.5l.94-2.06 2.06-.94-2.06-.94L8.5 2.5l-.94 2.06-2.06.94zm10 10l.94 2.06.94-2.06 2.06-.94-2.06-.94-.94-2.06-.94 2.06-2.06.94z\"/><path d=\"M17.41 7.96l-1.37-1.37c-.4-.4-.92-.59-1.43-.59-.52 0-1.04.2-1.43.59L10.3 9.45l-7.72 7.72c-.78.78-.78 2.05 0 2.83L4 21.41c.39.39.9.59 1.41.59.51 0 1.02-.2 1.41-.59l7.78-7.78 2.81-2.81c.8-.78.8-2.07 0-2.86zM5.41 20L4 18.59l7.72-7.72 1.47 1.35L5.41 20z\"/>\n",
              "  </svg>\n",
              "      </button>\n",
              "      \n",
              "  <style>\n",
              "    .colab-df-container {\n",
              "      display:flex;\n",
              "      flex-wrap:wrap;\n",
              "      gap: 12px;\n",
              "    }\n",
              "\n",
              "    .colab-df-convert {\n",
              "      background-color: #E8F0FE;\n",
              "      border: none;\n",
              "      border-radius: 50%;\n",
              "      cursor: pointer;\n",
              "      display: none;\n",
              "      fill: #1967D2;\n",
              "      height: 32px;\n",
              "      padding: 0 0 0 0;\n",
              "      width: 32px;\n",
              "    }\n",
              "\n",
              "    .colab-df-convert:hover {\n",
              "      background-color: #E2EBFA;\n",
              "      box-shadow: 0px 1px 2px rgba(60, 64, 67, 0.3), 0px 1px 3px 1px rgba(60, 64, 67, 0.15);\n",
              "      fill: #174EA6;\n",
              "    }\n",
              "\n",
              "    [theme=dark] .colab-df-convert {\n",
              "      background-color: #3B4455;\n",
              "      fill: #D2E3FC;\n",
              "    }\n",
              "\n",
              "    [theme=dark] .colab-df-convert:hover {\n",
              "      background-color: #434B5C;\n",
              "      box-shadow: 0px 1px 3px 1px rgba(0, 0, 0, 0.15);\n",
              "      filter: drop-shadow(0px 1px 2px rgba(0, 0, 0, 0.3));\n",
              "      fill: #FFFFFF;\n",
              "    }\n",
              "  </style>\n",
              "\n",
              "      <script>\n",
              "        const buttonEl =\n",
              "          document.querySelector('#df-972f5208-741f-474a-8953-89931c8edca1 button.colab-df-convert');\n",
              "        buttonEl.style.display =\n",
              "          google.colab.kernel.accessAllowed ? 'block' : 'none';\n",
              "\n",
              "        async function convertToInteractive(key) {\n",
              "          const element = document.querySelector('#df-972f5208-741f-474a-8953-89931c8edca1');\n",
              "          const dataTable =\n",
              "            await google.colab.kernel.invokeFunction('convertToInteractive',\n",
              "                                                     [key], {});\n",
              "          if (!dataTable) return;\n",
              "\n",
              "          const docLinkHtml = 'Like what you see? Visit the ' +\n",
              "            '<a target=\"_blank\" href=https://colab.research.google.com/notebooks/data_table.ipynb>data table notebook</a>'\n",
              "            + ' to learn more about interactive tables.';\n",
              "          element.innerHTML = '';\n",
              "          dataTable['output_type'] = 'display_data';\n",
              "          await google.colab.output.renderOutput(dataTable, element);\n",
              "          const docLink = document.createElement('div');\n",
              "          docLink.innerHTML = docLinkHtml;\n",
              "          element.appendChild(docLink);\n",
              "        }\n",
              "      </script>\n",
              "    </div>\n",
              "  </div>\n",
              "  "
            ]
          },
          "metadata": {},
          "execution_count": 106
        }
      ]
    },
    {
      "cell_type": "markdown",
      "source": [
        "## ***codage et normalization des données de la final***"
      ],
      "metadata": {
        "id": "b6dibx046Shj"
      }
    },
    {
      "cell_type": "code",
      "source": [
        "#statistics \n",
        "\n",
        "final = {\n",
        "    'Eastern'\t: ( \n",
        "        normalization_minmax(clubs['Boston Celtics'],**min_max_dict['Visitor/Neutral']) , \n",
        "        normalization_minmax(clubs['Miami Heat'],**min_max_dict['Home/Neutral']) \n",
        "    ),\n",
        "    'Western'  : (\n",
        "        normalization_minmax(clubs['Denver Nuggets'],**min_max_dict['Visitor/Neutral']) , \n",
        "        normalization_minmax(clubs['Los Angeles Lakers'],**min_max_dict['Home/Neutral']) \n",
        "    )\n",
        "}\n",
        "final"
      ],
      "metadata": {
        "colab": {
          "base_uri": "https://localhost:8080/"
        },
        "id": "YXTprmud5t_h",
        "outputId": "f00cd610-ede8-4aeb-90ba-bb2f1a290701"
      },
      "execution_count": 107,
      "outputs": [
        {
          "output_type": "execute_result",
          "data": {
            "text/plain": [
              "{'Eastern': (0.06666666666666667, 0.2), 'Western': (0.3333333333333333, 0.4)}"
            ]
          },
          "metadata": {},
          "execution_count": 107
        }
      ]
    },
    {
      "cell_type": "markdown",
      "source": [
        " Il est important de noter que la finale se déroulera sur une série de sept matchs.\n",
        "\n",
        "![Screenshot from 2023-05-19 11-36-26.png](data:image/png;base64,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)"
      ],
      "metadata": {
        "id": "SSSGLf2nXwKM"
      }
    },
    {
      "cell_type": "code",
      "source": [
        "games_eastern =  {\n",
        "    #           (day_name, day, equipe1, equipe 2)\n",
        "    'Game 1'\t: (3,  17,\t'Miami Heat',\t'Boston Celtics'),  # Wednesday\n",
        "    'Game 2'\t: (5,  19,\t'Miami Heat',\t'Boston Celtics'),  # Friday\n",
        "    'Game 3'\t: (7, 21,\t'Boston Celtics', 'Miami Heat'),    # Sunday\n",
        "    'Game 4'\t: (2, 23,\t'Boston Celtics', 'Miami Heat'),    # Tuesday\n",
        "    'Game 5'\t: (4, 25,\t'Miami Heat', 'Boston Celtics'),    # Thursday\n",
        "    'Game 6'\t: (6, 27,\t'Boston Celtics', 'Miami Heat'),    # Saturday\n",
        "    'Game 7'\t: (1, 29,\t'Miami Heat', 'Boston Celtics'),    # Monday\n",
        "}\n",
        "\n",
        "\n",
        "games_eastern_coded = {}\n",
        "\n",
        "for game in games_eastern:\n",
        "  day_name, day,\tVisitor_Neutral,\tHome_Neutral= games_eastern[game]\n",
        "  games_eastern_coded[game] = (\n",
        "      normalization_minmax(day_name,**min_max_dict['day_name']),\n",
        "      normalization_minmax(day,**min_max_dict['day']),\n",
        "      normalization_minmax(clubs[Visitor_Neutral],**min_max_dict['Visitor/Neutral']),\n",
        "      normalization_minmax(clubs[Home_Neutral],**min_max_dict['Home/Neutral']),\n",
        ")\n",
        "games_eastern_coded"
      ],
      "metadata": {
        "colab": {
          "base_uri": "https://localhost:8080/"
        },
        "id": "P-zdenJN8xR5",
        "outputId": "16c225af-ab72-4374-83b2-d53a88a36773"
      },
      "execution_count": 108,
      "outputs": [
        {
          "output_type": "execute_result",
          "data": {
            "text/plain": [
              "{'Game 1': (0.3333333333333333, 0.5517241379310345, 0.2, 0.06666666666666667),\n",
              " 'Game 2': (0.6666666666666666, 0.6206896551724138, 0.2, 0.06666666666666667),\n",
              " 'Game 3': (1.0, 0.6896551724137931, 0.06666666666666667, 0.2),\n",
              " 'Game 4': (0.16666666666666666, 0.7586206896551724, 0.06666666666666667, 0.2),\n",
              " 'Game 5': (0.5, 0.8275862068965517, 0.2, 0.06666666666666667),\n",
              " 'Game 6': (0.8333333333333334, 0.896551724137931, 0.06666666666666667, 0.2),\n",
              " 'Game 7': (0.0, 0.9655172413793104, 0.2, 0.06666666666666667)}"
            ]
          },
          "metadata": {},
          "execution_count": 108
        }
      ]
    },
    {
      "cell_type": "markdown",
      "source": [
        "![Screenshot from 2023-05-19 11-39-31.png](data:image/png;base64,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)"
      ],
      "metadata": {
        "id": "iDt5D-bYYSTU"
      }
    },
    {
      "cell_type": "code",
      "source": [
        "games_western = {\n",
        "    #           (day_name, day, equipe1, equipe 2)\n",
        "    'Game 1' :\t(2, 16,\t'Los Angeles Lakers', 'Denver Nuggets'),  # Tuesday\n",
        "    'Game 2' :\t(4, 18,\t'Los Angeles Lakers', 'Denver Nuggets'),  # Thursday\n",
        "    'Game 3' :\t(6, 20,\t'Denver Nuggets', 'Los Angeles Lakers'),  # Saturday\n",
        "    'Game 4' :\t(1, 22,\t'Denver Nuggets', 'Los Angeles Lakers'),\t# Monday\n",
        "    'Game 5' :\t(3, 24,\t'Los Angeles Lakers', 'Denver Nuggets'),\t# Wednesday\n",
        "    'Game 6' :\t(5, 26,\t'Denver Nuggets', 'Los Angeles Lakers'),\t# Friday\n",
        "    'Game 7' :\t(7, 28,\t'Los Angeles Lakers', 'Denver Nuggets'),  # Sunday\n",
        "}\n",
        "\n",
        "games_western_coded = {}\n",
        "\n",
        "for game in games_western:\n",
        "  day_name, day, Visitor_Neutral, Home_Neutral= games_western[game]\n",
        "  games_western_coded[game] = (\n",
        "      normalization_minmax(day_name,**min_max_dict['day_name']),\n",
        "      normalization_minmax(day,**min_max_dict['day']),\n",
        "      normalization_minmax(clubs[Visitor_Neutral],**min_max_dict['Visitor/Neutral']),\n",
        "      normalization_minmax(clubs[Home_Neutral],**min_max_dict['Home/Neutral']),\n",
        "  )  \n",
        "games_western_coded"
      ],
      "metadata": {
        "colab": {
          "base_uri": "https://localhost:8080/"
        },
        "id": "WadFEC329o6T",
        "outputId": "6c3de4e3-fcc1-4ba3-e2da-fc3d1afe926c"
      },
      "execution_count": 109,
      "outputs": [
        {
          "output_type": "execute_result",
          "data": {
            "text/plain": [
              "{'Game 1': (0.16666666666666666, 0.5172413793103449, 0.4, 0.3333333333333333),\n",
              " 'Game 2': (0.5, 0.5862068965517241, 0.4, 0.3333333333333333),\n",
              " 'Game 3': (0.8333333333333334, 0.6551724137931034, 0.3333333333333333, 0.4),\n",
              " 'Game 4': (0.0, 0.7241379310344828, 0.3333333333333333, 0.4),\n",
              " 'Game 5': (0.3333333333333333, 0.7931034482758621, 0.4, 0.3333333333333333),\n",
              " 'Game 6': (0.6666666666666666, 0.8620689655172413, 0.3333333333333333, 0.4),\n",
              " 'Game 7': (1.0, 0.9310344827586207, 0.4, 0.3333333333333333)}"
            ]
          },
          "metadata": {},
          "execution_count": 109
        }
      ]
    },
    {
      "cell_type": "markdown",
      "source": [
        "# **Machine learning Method**"
      ],
      "metadata": {
        "id": "mcGxvX0c6YHI"
      }
    },
    {
      "cell_type": "markdown",
      "source": [
        "## ***Linear Regression***"
      ],
      "metadata": {
        "id": "d68d3tOx-cCk"
      }
    },
    {
      "cell_type": "code",
      "source": [
        "from sklearn.linear_model import LinearRegression\n",
        "from sklearn.model_selection import train_test_split\n",
        "from sklearn.metrics import mean_squared_error, r2_score, mean_absolute_error"
      ],
      "metadata": {
        "id": "8ss-FBfpReM2"
      },
      "execution_count": 110,
      "outputs": []
    },
    {
      "cell_type": "code",
      "source": [
        "x = df[[ 'day_name', 'day',\t'Visitor/Neutral', 'Home/Neutral']].to_numpy()\n",
        "y = df[['result']].to_numpy()\n",
        "x_train, x_test, y_train, y_test = train_test_split(x, y, test_size=0.2, random_state=42)"
      ],
      "metadata": {
        "id": "DUmLk_DZrPpH"
      },
      "execution_count": 111,
      "outputs": []
    },
    {
      "cell_type": "code",
      "source": [
        "model = LinearRegression()\n",
        "model.fit(x_train, y_train)"
      ],
      "metadata": {
        "id": "n4_GsKZDl9f5",
        "colab": {
          "base_uri": "https://localhost:8080/",
          "height": 75
        },
        "outputId": "634f4375-8e13-4ba0-ecac-277e4ca4d79b"
      },
      "execution_count": 112,
      "outputs": [
        {
          "output_type": "execute_result",
          "data": {
            "text/plain": [
              "LinearRegression()"
            ],
            "text/html": [
              "<style>#sk-container-id-2 {color: black;background-color: white;}#sk-container-id-2 pre{padding: 0;}#sk-container-id-2 div.sk-toggleable {background-color: white;}#sk-container-id-2 label.sk-toggleable__label {cursor: pointer;display: block;width: 100%;margin-bottom: 0;padding: 0.3em;box-sizing: border-box;text-align: center;}#sk-container-id-2 label.sk-toggleable__label-arrow:before {content: \"▸\";float: left;margin-right: 0.25em;color: #696969;}#sk-container-id-2 label.sk-toggleable__label-arrow:hover:before {color: black;}#sk-container-id-2 div.sk-estimator:hover label.sk-toggleable__label-arrow:before {color: black;}#sk-container-id-2 div.sk-toggleable__content {max-height: 0;max-width: 0;overflow: hidden;text-align: left;background-color: #f0f8ff;}#sk-container-id-2 div.sk-toggleable__content pre {margin: 0.2em;color: black;border-radius: 0.25em;background-color: #f0f8ff;}#sk-container-id-2 input.sk-toggleable__control:checked~div.sk-toggleable__content {max-height: 200px;max-width: 100%;overflow: auto;}#sk-container-id-2 input.sk-toggleable__control:checked~label.sk-toggleable__label-arrow:before {content: \"▾\";}#sk-container-id-2 div.sk-estimator input.sk-toggleable__control:checked~label.sk-toggleable__label {background-color: #d4ebff;}#sk-container-id-2 div.sk-label input.sk-toggleable__control:checked~label.sk-toggleable__label {background-color: #d4ebff;}#sk-container-id-2 input.sk-hidden--visually {border: 0;clip: rect(1px 1px 1px 1px);clip: rect(1px, 1px, 1px, 1px);height: 1px;margin: -1px;overflow: hidden;padding: 0;position: absolute;width: 1px;}#sk-container-id-2 div.sk-estimator {font-family: monospace;background-color: #f0f8ff;border: 1px dotted black;border-radius: 0.25em;box-sizing: border-box;margin-bottom: 0.5em;}#sk-container-id-2 div.sk-estimator:hover {background-color: #d4ebff;}#sk-container-id-2 div.sk-parallel-item::after {content: \"\";width: 100%;border-bottom: 1px solid gray;flex-grow: 1;}#sk-container-id-2 div.sk-label:hover label.sk-toggleable__label {background-color: #d4ebff;}#sk-container-id-2 div.sk-serial::before {content: \"\";position: absolute;border-left: 1px solid gray;box-sizing: border-box;top: 0;bottom: 0;left: 50%;z-index: 0;}#sk-container-id-2 div.sk-serial {display: flex;flex-direction: column;align-items: center;background-color: white;padding-right: 0.2em;padding-left: 0.2em;position: relative;}#sk-container-id-2 div.sk-item {position: relative;z-index: 1;}#sk-container-id-2 div.sk-parallel {display: flex;align-items: stretch;justify-content: center;background-color: white;position: relative;}#sk-container-id-2 div.sk-item::before, #sk-container-id-2 div.sk-parallel-item::before {content: \"\";position: absolute;border-left: 1px solid gray;box-sizing: border-box;top: 0;bottom: 0;left: 50%;z-index: -1;}#sk-container-id-2 div.sk-parallel-item {display: flex;flex-direction: column;z-index: 1;position: relative;background-color: white;}#sk-container-id-2 div.sk-parallel-item:first-child::after {align-self: flex-end;width: 50%;}#sk-container-id-2 div.sk-parallel-item:last-child::after {align-self: flex-start;width: 50%;}#sk-container-id-2 div.sk-parallel-item:only-child::after {width: 0;}#sk-container-id-2 div.sk-dashed-wrapped {border: 1px dashed gray;margin: 0 0.4em 0.5em 0.4em;box-sizing: border-box;padding-bottom: 0.4em;background-color: white;}#sk-container-id-2 div.sk-label label {font-family: monospace;font-weight: bold;display: inline-block;line-height: 1.2em;}#sk-container-id-2 div.sk-label-container {text-align: center;}#sk-container-id-2 div.sk-container {/* jupyter's `normalize.less` sets `[hidden] { display: none; }` but bootstrap.min.css set `[hidden] { display: none !important; }` so we also need the `!important` here to be able to override the default hidden behavior on the sphinx rendered scikit-learn.org. See: https://github.com/scikit-learn/scikit-learn/issues/21755 */display: inline-block !important;position: relative;}#sk-container-id-2 div.sk-text-repr-fallback {display: none;}</style><div id=\"sk-container-id-2\" class=\"sk-top-container\"><div class=\"sk-text-repr-fallback\"><pre>LinearRegression()</pre><b>In a Jupyter environment, please rerun this cell to show the HTML representation or trust the notebook. <br />On GitHub, the HTML representation is unable to render, please try loading this page with nbviewer.org.</b></div><div class=\"sk-container\" hidden><div class=\"sk-item\"><div class=\"sk-estimator sk-toggleable\"><input class=\"sk-toggleable__control sk-hidden--visually\" id=\"sk-estimator-id-2\" type=\"checkbox\" checked><label for=\"sk-estimator-id-2\" class=\"sk-toggleable__label sk-toggleable__label-arrow\">LinearRegression</label><div class=\"sk-toggleable__content\"><pre>LinearRegression()</pre></div></div></div></div></div>"
            ]
          },
          "metadata": {},
          "execution_count": 112
        }
      ]
    },
    {
      "cell_type": "code",
      "source": [
        "len(x_train), len(x_test)"
      ],
      "metadata": {
        "colab": {
          "base_uri": "https://localhost:8080/"
        },
        "id": "nFxd0atc_daN",
        "outputId": "d5eec342-3873-42d3-e4ed-f5c8eb8eccf4"
      },
      "execution_count": 23,
      "outputs": [
        {
          "output_type": "execute_result",
          "data": {
            "text/plain": [
              "(65, 17)"
            ]
          },
          "metadata": {},
          "execution_count": 23
        }
      ]
    },
    {
      "cell_type": "code",
      "source": [
        "y_pred = model.predict(x_test)\n",
        "rmse = np.sqrt(mean_squared_error(y_test, y_pred))\n",
        "print(\"Root Mean Squared Error:\", rmse)\n",
        "mae = mean_absolute_error(y_test, y_pred)\n",
        "print(\"Mean Absolute Error:\", mae)\n",
        "mse = mean_squared_error(y_test, y_pred)\n",
        "print(\"Mean Squared Error:\", mse)\n",
        "r2 = r2_score(y_test, y_pred)\n",
        "print(\"R-squared score:\", r2)"
      ],
      "metadata": {
        "colab": {
          "base_uri": "https://localhost:8080/"
        },
        "id": "snjBUaQZHvQ3",
        "outputId": "2ed15925-21f9-4740-c5e0-393c8bf30473"
      },
      "execution_count": 24,
      "outputs": [
        {
          "output_type": "stream",
          "name": "stdout",
          "text": [
            "Root Mean Squared Error: 0.4557172365767785\n",
            "Mean Absolute Error: 0.38841348182886465\n",
            "Mean Squared Error: 0.2076781997131755\n",
            "R-squared score: 0.09062121640745868\n"
          ]
        }
      ]
    },
    {
      "cell_type": "markdown",
      "source": [
        "Prédiction du vainqueur de la conférence Ouest : Denver Nuggets"
      ],
      "metadata": {
        "id": "zV7nbIMsAtoW"
      }
    },
    {
      "cell_type": "code",
      "source": [
        "# Obtenir des pronostics pour chaque match\n",
        "result_western = model.predict(np.array(list(list(game) for game in  games_western_coded.values()))) > 0.5"
      ],
      "metadata": {
        "id": "aAIVrFWcNecs"
      },
      "execution_count": 25,
      "outputs": []
    },
    {
      "cell_type": "code",
      "source": [
        "game_result = {}\n",
        "for i,game in enumerate(games_western) :\n",
        "  game_result[game] = (\n",
        "      games_western[game][2],\n",
        "      games_western[game][3],\n",
        "       {\n",
        "          'result' : games_western[game][2] if result_western[i] else games_western[game][3]\n",
        "      }\n",
        "  )\n",
        "game_result"
      ],
      "metadata": {
        "id": "7DLMH8haNkXY",
        "colab": {
          "base_uri": "https://localhost:8080/"
        },
        "outputId": "5bf07c73-89f1-43cb-fe29-e71f98abe35b"
      },
      "execution_count": 26,
      "outputs": [
        {
          "output_type": "execute_result",
          "data": {
            "text/plain": [
              "{'Game 1': ('Los Angeles Lakers',\n",
              "  'Denver Nuggets',\n",
              "  {'result': 'Denver Nuggets'}),\n",
              " 'Game 2': ('Los Angeles Lakers',\n",
              "  'Denver Nuggets',\n",
              "  {'result': 'Denver Nuggets'}),\n",
              " 'Game 3': ('Denver Nuggets',\n",
              "  'Los Angeles Lakers',\n",
              "  {'result': 'Los Angeles Lakers'}),\n",
              " 'Game 4': ('Denver Nuggets',\n",
              "  'Los Angeles Lakers',\n",
              "  {'result': 'Los Angeles Lakers'}),\n",
              " 'Game 5': ('Los Angeles Lakers',\n",
              "  'Denver Nuggets',\n",
              "  {'result': 'Denver Nuggets'}),\n",
              " 'Game 6': ('Denver Nuggets',\n",
              "  'Los Angeles Lakers',\n",
              "  {'result': 'Los Angeles Lakers'}),\n",
              " 'Game 7': ('Los Angeles Lakers',\n",
              "  'Denver Nuggets',\n",
              "  {'result': 'Denver Nuggets'})}"
            ]
          },
          "metadata": {},
          "execution_count": 26
        }
      ]
    },
    {
      "cell_type": "code",
      "source": [
        "# Effectuer le décompte du nombre de victoires pour chaque équipe.\n",
        "vectory_game_count_DenverNuggets = len([game_result[key][2]['result'] for key in game_result  if game_result[key][2]['result']=='Denver Nuggets']) \n",
        "vectory_game_count_LosAngelesLakers = len([game_result[key][2]['result'] for key in game_result  if game_result[key][2]['result']=='Los Angeles Lakers'])"
      ],
      "metadata": {
        "id": "N_hGsPOhNoqu"
      },
      "execution_count": 27,
      "outputs": []
    },
    {
      "cell_type": "code",
      "source": [
        "vectory_game_count_DenverNuggets, vectory_game_count_LosAngelesLakers"
      ],
      "metadata": {
        "colab": {
          "base_uri": "https://localhost:8080/"
        },
        "id": "t10UPv2mNsZZ",
        "outputId": "c3299a83-a3e6-4216-da39-fda42d48a613"
      },
      "execution_count": 28,
      "outputs": [
        {
          "output_type": "execute_result",
          "data": {
            "text/plain": [
              "(4, 3)"
            ]
          },
          "metadata": {},
          "execution_count": 28
        }
      ]
    },
    {
      "cell_type": "code",
      "source": [
        "\"\"\"\n",
        "Selon les résultats de la regression logistique, Denver Nuggets sera le vainquer de la Conférence Ouest\n",
        "\"\"\""
      ],
      "metadata": {
        "id": "eioKCWiitQa9"
      },
      "execution_count": null,
      "outputs": []
    },
    {
      "cell_type": "markdown",
      "source": [
        "Prédiction du vainqueur de la conférence Est : Boston Celtics"
      ],
      "metadata": {
        "id": "fxOSlNBhBErI"
      }
    },
    {
      "cell_type": "code",
      "source": [
        "# Obtenir des pronostics pour chaque match\n",
        "result_eastern = model.predict(np.array(list(list(games_eastern) for games_eastern in  games_eastern_coded.values()))) > 0.5 "
      ],
      "metadata": {
        "id": "BG_tq6sZQM_E"
      },
      "execution_count": 29,
      "outputs": []
    },
    {
      "cell_type": "code",
      "source": [
        "game_eastern_result = {}\n",
        "for i,game in enumerate(games_eastern) :\n",
        "  game_eastern_result[game] = (\n",
        "      games_eastern[game][2],\n",
        "      games_eastern[game][3],\n",
        "       {\n",
        "          'result' : games_eastern[game][2] if result_eastern[i] else games_eastern[game][3]\n",
        "      }\n",
        "  )"
      ],
      "metadata": {
        "id": "6mM3MiZcQW3K"
      },
      "execution_count": 30,
      "outputs": []
    },
    {
      "cell_type": "code",
      "source": [
        "game_eastern_result"
      ],
      "metadata": {
        "colab": {
          "base_uri": "https://localhost:8080/"
        },
        "id": "gXtZ9yt29Vgx",
        "outputId": "791dbb22-becd-4d37-f58c-fcff634514b0"
      },
      "execution_count": 116,
      "outputs": [
        {
          "output_type": "execute_result",
          "data": {
            "text/plain": [
              "{'Game 1': ('Miami Heat', 'Boston Celtics', {'result': 'Boston Celtics'}),\n",
              " 'Game 2': ('Miami Heat', 'Boston Celtics', {'result': 'Boston Celtics'}),\n",
              " 'Game 3': ('Boston Celtics', 'Miami Heat', {'result': 'Miami Heat'}),\n",
              " 'Game 4': ('Boston Celtics', 'Miami Heat', {'result': 'Miami Heat'}),\n",
              " 'Game 5': ('Miami Heat', 'Boston Celtics', {'result': 'Boston Celtics'}),\n",
              " 'Game 6': ('Boston Celtics', 'Miami Heat', {'result': 'Miami Heat'}),\n",
              " 'Game 7': ('Miami Heat', 'Boston Celtics', {'result': 'Boston Celtics'})}"
            ]
          },
          "metadata": {},
          "execution_count": 116
        }
      ]
    },
    {
      "cell_type": "code",
      "source": [
        "# Effectuer le décompte du nombre de victoires pour chaque équipe.\n",
        "vectory_game_count_MiamiHeat = len([game_eastern_result[key][2]['result'] for key in game_eastern_result  if game_eastern_result[key][2]['result']=='Miami Heat'])\n",
        "vectory_game_count_BostonCeltics = len([game_eastern_result[key][2]['result'] for key in game_eastern_result  if game_eastern_result[key][2]['result']=='Boston Celtics'])\n",
        "vectory_game_count_MiamiHeat, vectory_game_count_BostonCeltics"
      ],
      "metadata": {
        "colab": {
          "base_uri": "https://localhost:8080/"
        },
        "id": "Md7KLsezQkpN",
        "outputId": "7628ed17-c2b7-4a46-aa75-0b02ca8e26f2"
      },
      "execution_count": 31,
      "outputs": [
        {
          "output_type": "execute_result",
          "data": {
            "text/plain": [
              "(3, 4)"
            ]
          },
          "metadata": {},
          "execution_count": 31
        }
      ]
    },
    {
      "cell_type": "code",
      "source": [
        "\"\"\"\n",
        "Selon les résultats de la regression logistique, Boston Celtics sera le vainquer de la Conférence Ouest\n",
        "\"\"\""
      ],
      "metadata": {
        "id": "yQ588_ekuEAW"
      },
      "execution_count": null,
      "outputs": []
    },
    {
      "cell_type": "markdown",
      "source": [
        "Prédiction du champion NBA 2022/2023 en fonction des deux vainqueurs : Denver Nuggets"
      ],
      "metadata": {
        "id": "8X6lOl6cB4Gn"
      }
    },
    {
      "cell_type": "code",
      "source": [
        "data_champion = np.array([\n",
        "        [\n",
        "          1,\n",
        "          1,\n",
        "         normalization_minmax(clubs['Boston Celtics'],**min_max_dict['Visitor/Neutral']),\n",
        "         normalization_minmax(clubs['Denver Nuggets'],**min_max_dict['Home/Neutral'])\n",
        "      ],\n",
        "])"
      ],
      "metadata": {
        "id": "GotktRvkCF9t"
      },
      "execution_count": 32,
      "outputs": []
    },
    {
      "cell_type": "code",
      "source": [
        "champion_pred =  int((model.predict(data_champion) > 0.5 )[0][0])"
      ],
      "metadata": {
        "id": "KzQ3m06aCse9"
      },
      "execution_count": 33,
      "outputs": []
    },
    {
      "cell_type": "code",
      "source": [
        "champion_pred"
      ],
      "metadata": {
        "colab": {
          "base_uri": "https://localhost:8080/"
        },
        "id": "EwZFq9eJC4yJ",
        "outputId": "fedd8585-4114-44be-ae91-cdf97d0b200e"
      },
      "execution_count": 34,
      "outputs": [
        {
          "output_type": "execute_result",
          "data": {
            "text/plain": [
              "0"
            ]
          },
          "metadata": {},
          "execution_count": 34
        }
      ]
    },
    {
      "cell_type": "code",
      "source": [
        "\"\"\"\n",
        "Selon la regression logistique, Denver Nuggets sera le champion de la NBA 2022/2023\n",
        "\"\"\""
      ],
      "metadata": {
        "colab": {
          "base_uri": "https://localhost:8080/",
          "height": 36
        },
        "id": "DhOTuYF8wfkn",
        "outputId": "943d01c7-95c2-4dba-ad7e-a8464fb5ecce"
      },
      "execution_count": 114,
      "outputs": [
        {
          "output_type": "execute_result",
          "data": {
            "text/plain": [
              "'\\nSelon la regression logistique, Denver Nuggets sera le champion de la NBA 2022/2023\\n'"
            ],
            "application/vnd.google.colaboratory.intrinsic+json": {
              "type": "string"
            }
          },
          "metadata": {},
          "execution_count": 114
        }
      ]
    },
    {
      "cell_type": "markdown",
      "source": [
        "# ***Neural Network***"
      ],
      "metadata": {
        "id": "3rcMV-I8-ibO"
      }
    },
    {
      "cell_type": "code",
      "source": [
        "from keras.models import Sequential\n",
        "from keras.layers import Dense\n"
      ],
      "metadata": {
        "id": "06Hpen3g_JNo"
      },
      "execution_count": 35,
      "outputs": []
    },
    {
      "cell_type": "code",
      "source": [
        "model = Sequential()\n",
        "model.add(Dense(32, activation='relu', input_shape=(4,)))\n",
        "model.add(Dense(16, activation='relu'))\n",
        "model.add(Dense(1, activation='sigmoid'))\n",
        "\n",
        "model.compile(optimizer='adam', loss='binary_crossentropy', metrics=['accuracy'])\n",
        "\n",
        "hist = model.fit(x_train, y_train, epochs=200, batch_size=6)"
      ],
      "metadata": {
        "id": "UwTe-nVH_qq3",
        "colab": {
          "base_uri": "https://localhost:8080/"
        },
        "outputId": "ccbc19d1-3a2d-4b19-ffe8-dd1b29c0f939"
      },
      "execution_count": 36,
      "outputs": [
        {
          "output_type": "stream",
          "name": "stdout",
          "text": [
            "Epoch 1/200\n",
            "11/11 [==============================] - 2s 4ms/step - loss: 0.6798 - accuracy: 0.7231\n",
            "Epoch 2/200\n",
            "11/11 [==============================] - 0s 3ms/step - loss: 0.6614 - accuracy: 0.7231\n",
            "Epoch 3/200\n",
            "11/11 [==============================] - 0s 6ms/step - loss: 0.6496 - accuracy: 0.7231\n",
            "Epoch 4/200\n",
            "11/11 [==============================] - 0s 4ms/step - loss: 0.6375 - accuracy: 0.7231\n",
            "Epoch 5/200\n",
            "11/11 [==============================] - 0s 3ms/step - loss: 0.6282 - accuracy: 0.7231\n",
            "Epoch 6/200\n",
            "11/11 [==============================] - 0s 3ms/step - loss: 0.6207 - accuracy: 0.7231\n",
            "Epoch 7/200\n",
            "11/11 [==============================] - 0s 3ms/step - loss: 0.6126 - accuracy: 0.7231\n",
            "Epoch 8/200\n",
            "11/11 [==============================] - 0s 6ms/step - loss: 0.6114 - accuracy: 0.7231\n",
            "Epoch 9/200\n",
            "11/11 [==============================] - 0s 7ms/step - loss: 0.6004 - accuracy: 0.7231\n",
            "Epoch 10/200\n",
            "11/11 [==============================] - 0s 3ms/step - loss: 0.5972 - accuracy: 0.7231\n",
            "Epoch 11/200\n",
            "11/11 [==============================] - 0s 5ms/step - loss: 0.5943 - accuracy: 0.7231\n",
            "Epoch 12/200\n",
            "11/11 [==============================] - 0s 3ms/step - loss: 0.5912 - accuracy: 0.7231\n",
            "Epoch 13/200\n",
            "11/11 [==============================] - 0s 4ms/step - loss: 0.5887 - accuracy: 0.7231\n",
            "Epoch 14/200\n",
            "11/11 [==============================] - 0s 4ms/step - loss: 0.5869 - accuracy: 0.7231\n",
            "Epoch 15/200\n",
            "11/11 [==============================] - 0s 6ms/step - loss: 0.5855 - accuracy: 0.7231\n",
            "Epoch 16/200\n",
            "11/11 [==============================] - 0s 5ms/step - loss: 0.5840 - accuracy: 0.7231\n",
            "Epoch 17/200\n",
            "11/11 [==============================] - 0s 3ms/step - loss: 0.5830 - accuracy: 0.7231\n",
            "Epoch 18/200\n",
            "11/11 [==============================] - 0s 3ms/step - loss: 0.5805 - accuracy: 0.7231\n",
            "Epoch 19/200\n",
            "11/11 [==============================] - 0s 5ms/step - loss: 0.5792 - accuracy: 0.7231\n",
            "Epoch 20/200\n",
            "11/11 [==============================] - 0s 3ms/step - loss: 0.5789 - accuracy: 0.7231\n",
            "Epoch 21/200\n",
            "11/11 [==============================] - 0s 4ms/step - loss: 0.5773 - accuracy: 0.7231\n",
            "Epoch 22/200\n",
            "11/11 [==============================] - 0s 4ms/step - loss: 0.5765 - accuracy: 0.7231\n",
            "Epoch 23/200\n",
            "11/11 [==============================] - 0s 3ms/step - loss: 0.5768 - accuracy: 0.7231\n",
            "Epoch 24/200\n",
            "11/11 [==============================] - 0s 7ms/step - loss: 0.5756 - accuracy: 0.7231\n",
            "Epoch 25/200\n",
            "11/11 [==============================] - 0s 4ms/step - loss: 0.5737 - accuracy: 0.7231\n",
            "Epoch 26/200\n",
            "11/11 [==============================] - 0s 5ms/step - loss: 0.5712 - accuracy: 0.7231\n",
            "Epoch 27/200\n",
            "11/11 [==============================] - 0s 5ms/step - loss: 0.5710 - accuracy: 0.7231\n",
            "Epoch 28/200\n",
            "11/11 [==============================] - 0s 3ms/step - loss: 0.5692 - accuracy: 0.7231\n",
            "Epoch 29/200\n",
            "11/11 [==============================] - 0s 4ms/step - loss: 0.5681 - accuracy: 0.7231\n",
            "Epoch 30/200\n",
            "11/11 [==============================] - 0s 11ms/step - loss: 0.5669 - accuracy: 0.7231\n",
            "Epoch 31/200\n",
            "11/11 [==============================] - 0s 3ms/step - loss: 0.5659 - accuracy: 0.7231\n",
            "Epoch 32/200\n",
            "11/11 [==============================] - 0s 3ms/step - loss: 0.5648 - accuracy: 0.7231\n",
            "Epoch 33/200\n",
            "11/11 [==============================] - 0s 3ms/step - loss: 0.5626 - accuracy: 0.7231\n",
            "Epoch 34/200\n",
            "11/11 [==============================] - 0s 3ms/step - loss: 0.5627 - accuracy: 0.7231\n",
            "Epoch 35/200\n",
            "11/11 [==============================] - 0s 4ms/step - loss: 0.5599 - accuracy: 0.7231\n",
            "Epoch 36/200\n",
            "11/11 [==============================] - 0s 3ms/step - loss: 0.5624 - accuracy: 0.7231\n",
            "Epoch 37/200\n",
            "11/11 [==============================] - 0s 3ms/step - loss: 0.5581 - accuracy: 0.7231\n",
            "Epoch 38/200\n",
            "11/11 [==============================] - 0s 4ms/step - loss: 0.5573 - accuracy: 0.7231\n",
            "Epoch 39/200\n",
            "11/11 [==============================] - 0s 4ms/step - loss: 0.5560 - accuracy: 0.7231\n",
            "Epoch 40/200\n",
            "11/11 [==============================] - 0s 4ms/step - loss: 0.5542 - accuracy: 0.7231\n",
            "Epoch 41/200\n",
            "11/11 [==============================] - 0s 4ms/step - loss: 0.5530 - accuracy: 0.7231\n",
            "Epoch 42/200\n",
            "11/11 [==============================] - 0s 6ms/step - loss: 0.5511 - accuracy: 0.7231\n",
            "Epoch 43/200\n",
            "11/11 [==============================] - 0s 7ms/step - loss: 0.5506 - accuracy: 0.7231\n",
            "Epoch 44/200\n",
            "11/11 [==============================] - 0s 5ms/step - loss: 0.5491 - accuracy: 0.7231\n",
            "Epoch 45/200\n",
            "11/11 [==============================] - 0s 5ms/step - loss: 0.5489 - accuracy: 0.7231\n",
            "Epoch 46/200\n",
            "11/11 [==============================] - 0s 5ms/step - loss: 0.5467 - accuracy: 0.7231\n",
            "Epoch 47/200\n",
            "11/11 [==============================] - 0s 4ms/step - loss: 0.5476 - accuracy: 0.7231\n",
            "Epoch 48/200\n",
            "11/11 [==============================] - 0s 9ms/step - loss: 0.5459 - accuracy: 0.7231\n",
            "Epoch 49/200\n",
            "11/11 [==============================] - 0s 9ms/step - loss: 0.5438 - accuracy: 0.7385\n",
            "Epoch 50/200\n",
            "11/11 [==============================] - 0s 7ms/step - loss: 0.5421 - accuracy: 0.7385\n",
            "Epoch 51/200\n",
            "11/11 [==============================] - 0s 8ms/step - loss: 0.5412 - accuracy: 0.7385\n",
            "Epoch 52/200\n",
            "11/11 [==============================] - 0s 9ms/step - loss: 0.5400 - accuracy: 0.7385\n",
            "Epoch 53/200\n",
            "11/11 [==============================] - 0s 7ms/step - loss: 0.5382 - accuracy: 0.7385\n",
            "Epoch 54/200\n",
            "11/11 [==============================] - 0s 6ms/step - loss: 0.5384 - accuracy: 0.7538\n",
            "Epoch 55/200\n",
            "11/11 [==============================] - 0s 8ms/step - loss: 0.5383 - accuracy: 0.7538\n",
            "Epoch 56/200\n",
            "11/11 [==============================] - 0s 6ms/step - loss: 0.5347 - accuracy: 0.7538\n",
            "Epoch 57/200\n",
            "11/11 [==============================] - 0s 5ms/step - loss: 0.5339 - accuracy: 0.7538\n",
            "Epoch 58/200\n",
            "11/11 [==============================] - 0s 5ms/step - loss: 0.5330 - accuracy: 0.7692\n",
            "Epoch 59/200\n",
            "11/11 [==============================] - 0s 10ms/step - loss: 0.5326 - accuracy: 0.7538\n",
            "Epoch 60/200\n",
            "11/11 [==============================] - 0s 8ms/step - loss: 0.5307 - accuracy: 0.7538\n",
            "Epoch 61/200\n",
            "11/11 [==============================] - 0s 5ms/step - loss: 0.5301 - accuracy: 0.7538\n",
            "Epoch 62/200\n",
            "11/11 [==============================] - 0s 5ms/step - loss: 0.5285 - accuracy: 0.7692\n",
            "Epoch 63/200\n",
            "11/11 [==============================] - 0s 11ms/step - loss: 0.5278 - accuracy: 0.7538\n",
            "Epoch 64/200\n",
            "11/11 [==============================] - 0s 9ms/step - loss: 0.5265 - accuracy: 0.7538\n",
            "Epoch 65/200\n",
            "11/11 [==============================] - 0s 10ms/step - loss: 0.5267 - accuracy: 0.7692\n",
            "Epoch 66/200\n",
            "11/11 [==============================] - 0s 8ms/step - loss: 0.5238 - accuracy: 0.7846\n",
            "Epoch 67/200\n",
            "11/11 [==============================] - 0s 8ms/step - loss: 0.5232 - accuracy: 0.7538\n",
            "Epoch 68/200\n",
            "11/11 [==============================] - 0s 4ms/step - loss: 0.5206 - accuracy: 0.7692\n",
            "Epoch 69/200\n",
            "11/11 [==============================] - 0s 8ms/step - loss: 0.5204 - accuracy: 0.7846\n",
            "Epoch 70/200\n",
            "11/11 [==============================] - 0s 10ms/step - loss: 0.5185 - accuracy: 0.7846\n",
            "Epoch 71/200\n",
            "11/11 [==============================] - 0s 5ms/step - loss: 0.5165 - accuracy: 0.7846\n",
            "Epoch 72/200\n",
            "11/11 [==============================] - 0s 8ms/step - loss: 0.5166 - accuracy: 0.7692\n",
            "Epoch 73/200\n",
            "11/11 [==============================] - 0s 5ms/step - loss: 0.5141 - accuracy: 0.7692\n",
            "Epoch 74/200\n",
            "11/11 [==============================] - 0s 14ms/step - loss: 0.5138 - accuracy: 0.7846\n",
            "Epoch 75/200\n",
            "11/11 [==============================] - 0s 9ms/step - loss: 0.5131 - accuracy: 0.7846\n",
            "Epoch 76/200\n",
            "11/11 [==============================] - 0s 9ms/step - loss: 0.5110 - accuracy: 0.7846\n",
            "Epoch 77/200\n",
            "11/11 [==============================] - 0s 6ms/step - loss: 0.5105 - accuracy: 0.7692\n",
            "Epoch 78/200\n",
            "11/11 [==============================] - 0s 7ms/step - loss: 0.5084 - accuracy: 0.7846\n",
            "Epoch 79/200\n",
            "11/11 [==============================] - 0s 5ms/step - loss: 0.5070 - accuracy: 0.7846\n",
            "Epoch 80/200\n",
            "11/11 [==============================] - 0s 11ms/step - loss: 0.5060 - accuracy: 0.7846\n",
            "Epoch 81/200\n",
            "11/11 [==============================] - 0s 12ms/step - loss: 0.5045 - accuracy: 0.7846\n",
            "Epoch 82/200\n",
            "11/11 [==============================] - 0s 10ms/step - loss: 0.5035 - accuracy: 0.7692\n",
            "Epoch 83/200\n",
            "11/11 [==============================] - 0s 13ms/step - loss: 0.5015 - accuracy: 0.7846\n",
            "Epoch 84/200\n",
            "11/11 [==============================] - 0s 7ms/step - loss: 0.4992 - accuracy: 0.8000\n",
            "Epoch 85/200\n",
            "11/11 [==============================] - 0s 10ms/step - loss: 0.4995 - accuracy: 0.8000\n",
            "Epoch 86/200\n",
            "11/11 [==============================] - 0s 10ms/step - loss: 0.4998 - accuracy: 0.7692\n",
            "Epoch 87/200\n",
            "11/11 [==============================] - 0s 9ms/step - loss: 0.4969 - accuracy: 0.7846\n",
            "Epoch 88/200\n",
            "11/11 [==============================] - 0s 6ms/step - loss: 0.4941 - accuracy: 0.8000\n",
            "Epoch 89/200\n",
            "11/11 [==============================] - 0s 9ms/step - loss: 0.4935 - accuracy: 0.8000\n",
            "Epoch 90/200\n",
            "11/11 [==============================] - 0s 9ms/step - loss: 0.4928 - accuracy: 0.8000\n",
            "Epoch 91/200\n",
            "11/11 [==============================] - 0s 14ms/step - loss: 0.4909 - accuracy: 0.8000\n",
            "Epoch 92/200\n",
            "11/11 [==============================] - 0s 12ms/step - loss: 0.4914 - accuracy: 0.8000\n",
            "Epoch 93/200\n",
            "11/11 [==============================] - 0s 8ms/step - loss: 0.4895 - accuracy: 0.8000\n",
            "Epoch 94/200\n",
            "11/11 [==============================] - 0s 6ms/step - loss: 0.4855 - accuracy: 0.8000\n",
            "Epoch 95/200\n",
            "11/11 [==============================] - 0s 4ms/step - loss: 0.4856 - accuracy: 0.7846\n",
            "Epoch 96/200\n",
            "11/11 [==============================] - 0s 8ms/step - loss: 0.4832 - accuracy: 0.7692\n",
            "Epoch 97/200\n",
            "11/11 [==============================] - 0s 10ms/step - loss: 0.4824 - accuracy: 0.8000\n",
            "Epoch 98/200\n",
            "11/11 [==============================] - 0s 14ms/step - loss: 0.4817 - accuracy: 0.8000\n",
            "Epoch 99/200\n",
            "11/11 [==============================] - 0s 11ms/step - loss: 0.4803 - accuracy: 0.7846\n",
            "Epoch 100/200\n",
            "11/11 [==============================] - 0s 8ms/step - loss: 0.4786 - accuracy: 0.8000\n",
            "Epoch 101/200\n",
            "11/11 [==============================] - 0s 8ms/step - loss: 0.4777 - accuracy: 0.8000\n",
            "Epoch 102/200\n",
            "11/11 [==============================] - 0s 4ms/step - loss: 0.4764 - accuracy: 0.7846\n",
            "Epoch 103/200\n",
            "11/11 [==============================] - 0s 10ms/step - loss: 0.4752 - accuracy: 0.8000\n",
            "Epoch 104/200\n",
            "11/11 [==============================] - 0s 6ms/step - loss: 0.4775 - accuracy: 0.7692\n",
            "Epoch 105/200\n",
            "11/11 [==============================] - 0s 5ms/step - loss: 0.4716 - accuracy: 0.7692\n",
            "Epoch 106/200\n",
            "11/11 [==============================] - 0s 3ms/step - loss: 0.4713 - accuracy: 0.8000\n",
            "Epoch 107/200\n",
            "11/11 [==============================] - 0s 6ms/step - loss: 0.4687 - accuracy: 0.8000\n",
            "Epoch 108/200\n",
            "11/11 [==============================] - 0s 10ms/step - loss: 0.4676 - accuracy: 0.7692\n",
            "Epoch 109/200\n",
            "11/11 [==============================] - 0s 13ms/step - loss: 0.4656 - accuracy: 0.7692\n",
            "Epoch 110/200\n",
            "11/11 [==============================] - 0s 13ms/step - loss: 0.4645 - accuracy: 0.7846\n",
            "Epoch 111/200\n",
            "11/11 [==============================] - 0s 9ms/step - loss: 0.4644 - accuracy: 0.8000\n",
            "Epoch 112/200\n",
            "11/11 [==============================] - 0s 9ms/step - loss: 0.4620 - accuracy: 0.7692\n",
            "Epoch 113/200\n",
            "11/11 [==============================] - 0s 4ms/step - loss: 0.4618 - accuracy: 0.7846\n",
            "Epoch 114/200\n",
            "11/11 [==============================] - 0s 8ms/step - loss: 0.4597 - accuracy: 0.7692\n",
            "Epoch 115/200\n",
            "11/11 [==============================] - 0s 7ms/step - loss: 0.4586 - accuracy: 0.7692\n",
            "Epoch 116/200\n",
            "11/11 [==============================] - 0s 3ms/step - loss: 0.4561 - accuracy: 0.7846\n",
            "Epoch 117/200\n",
            "11/11 [==============================] - 0s 4ms/step - loss: 0.4553 - accuracy: 0.7692\n",
            "Epoch 118/200\n",
            "11/11 [==============================] - 0s 6ms/step - loss: 0.4532 - accuracy: 0.7846\n",
            "Epoch 119/200\n",
            "11/11 [==============================] - 0s 4ms/step - loss: 0.4520 - accuracy: 0.7846\n",
            "Epoch 120/200\n",
            "11/11 [==============================] - 0s 5ms/step - loss: 0.4501 - accuracy: 0.8000\n",
            "Epoch 121/200\n",
            "11/11 [==============================] - 0s 6ms/step - loss: 0.4475 - accuracy: 0.7846\n",
            "Epoch 122/200\n",
            "11/11 [==============================] - 0s 7ms/step - loss: 0.4493 - accuracy: 0.8000\n",
            "Epoch 123/200\n",
            "11/11 [==============================] - 0s 8ms/step - loss: 0.4446 - accuracy: 0.7846\n",
            "Epoch 124/200\n",
            "11/11 [==============================] - 0s 4ms/step - loss: 0.4448 - accuracy: 0.7692\n",
            "Epoch 125/200\n",
            "11/11 [==============================] - 0s 5ms/step - loss: 0.4440 - accuracy: 0.7692\n",
            "Epoch 126/200\n",
            "11/11 [==============================] - 0s 6ms/step - loss: 0.4464 - accuracy: 0.7846\n",
            "Epoch 127/200\n",
            "11/11 [==============================] - 0s 5ms/step - loss: 0.4419 - accuracy: 0.8000\n",
            "Epoch 128/200\n",
            "11/11 [==============================] - 0s 5ms/step - loss: 0.4391 - accuracy: 0.8000\n",
            "Epoch 129/200\n",
            "11/11 [==============================] - 0s 8ms/step - loss: 0.4367 - accuracy: 0.7846\n",
            "Epoch 130/200\n",
            "11/11 [==============================] - 0s 11ms/step - loss: 0.4357 - accuracy: 0.7846\n",
            "Epoch 131/200\n",
            "11/11 [==============================] - 0s 11ms/step - loss: 0.4352 - accuracy: 0.8000\n",
            "Epoch 132/200\n",
            "11/11 [==============================] - 0s 10ms/step - loss: 0.4345 - accuracy: 0.7846\n",
            "Epoch 133/200\n",
            "11/11 [==============================] - 0s 5ms/step - loss: 0.4323 - accuracy: 0.7846\n",
            "Epoch 134/200\n",
            "11/11 [==============================] - 0s 9ms/step - loss: 0.4329 - accuracy: 0.8000\n",
            "Epoch 135/200\n",
            "11/11 [==============================] - 0s 6ms/step - loss: 0.4297 - accuracy: 0.7846\n",
            "Epoch 136/200\n",
            "11/11 [==============================] - 0s 6ms/step - loss: 0.4271 - accuracy: 0.8154\n",
            "Epoch 137/200\n",
            "11/11 [==============================] - 0s 7ms/step - loss: 0.4261 - accuracy: 0.8000\n",
            "Epoch 138/200\n",
            "11/11 [==============================] - 0s 7ms/step - loss: 0.4233 - accuracy: 0.7846\n",
            "Epoch 139/200\n",
            "11/11 [==============================] - 0s 7ms/step - loss: 0.4267 - accuracy: 0.8000\n",
            "Epoch 140/200\n",
            "11/11 [==============================] - 0s 6ms/step - loss: 0.4231 - accuracy: 0.7846\n",
            "Epoch 141/200\n",
            "11/11 [==============================] - 0s 7ms/step - loss: 0.4207 - accuracy: 0.7846\n",
            "Epoch 142/200\n",
            "11/11 [==============================] - 0s 4ms/step - loss: 0.4220 - accuracy: 0.8000\n",
            "Epoch 143/200\n",
            "11/11 [==============================] - 0s 10ms/step - loss: 0.4166 - accuracy: 0.8000\n",
            "Epoch 144/200\n",
            "11/11 [==============================] - 0s 10ms/step - loss: 0.4175 - accuracy: 0.8000\n",
            "Epoch 145/200\n",
            "11/11 [==============================] - 0s 7ms/step - loss: 0.4175 - accuracy: 0.8000\n",
            "Epoch 146/200\n",
            "11/11 [==============================] - 0s 6ms/step - loss: 0.4189 - accuracy: 0.8154\n",
            "Epoch 147/200\n",
            "11/11 [==============================] - 0s 6ms/step - loss: 0.4132 - accuracy: 0.8000\n",
            "Epoch 148/200\n",
            "11/11 [==============================] - 0s 10ms/step - loss: 0.4084 - accuracy: 0.8000\n",
            "Epoch 149/200\n",
            "11/11 [==============================] - 0s 10ms/step - loss: 0.4074 - accuracy: 0.8000\n",
            "Epoch 150/200\n",
            "11/11 [==============================] - 0s 8ms/step - loss: 0.4052 - accuracy: 0.8154\n",
            "Epoch 151/200\n",
            "11/11 [==============================] - 0s 5ms/step - loss: 0.4058 - accuracy: 0.8154\n",
            "Epoch 152/200\n",
            "11/11 [==============================] - 0s 7ms/step - loss: 0.4011 - accuracy: 0.8154\n",
            "Epoch 153/200\n",
            "11/11 [==============================] - 0s 5ms/step - loss: 0.4008 - accuracy: 0.8462\n",
            "Epoch 154/200\n",
            "11/11 [==============================] - 0s 4ms/step - loss: 0.4010 - accuracy: 0.8462\n",
            "Epoch 155/200\n",
            "11/11 [==============================] - 0s 4ms/step - loss: 0.3964 - accuracy: 0.8462\n",
            "Epoch 156/200\n",
            "11/11 [==============================] - 0s 5ms/step - loss: 0.3959 - accuracy: 0.8154\n",
            "Epoch 157/200\n",
            "11/11 [==============================] - 0s 5ms/step - loss: 0.3989 - accuracy: 0.8308\n",
            "Epoch 158/200\n",
            "11/11 [==============================] - 0s 6ms/step - loss: 0.3933 - accuracy: 0.8462\n",
            "Epoch 159/200\n",
            "11/11 [==============================] - 0s 6ms/step - loss: 0.3918 - accuracy: 0.8308\n",
            "Epoch 160/200\n",
            "11/11 [==============================] - 0s 4ms/step - loss: 0.3891 - accuracy: 0.8462\n",
            "Epoch 161/200\n",
            "11/11 [==============================] - 0s 6ms/step - loss: 0.3896 - accuracy: 0.8308\n",
            "Epoch 162/200\n",
            "11/11 [==============================] - 0s 7ms/step - loss: 0.3902 - accuracy: 0.8308\n",
            "Epoch 163/200\n",
            "11/11 [==============================] - 0s 7ms/step - loss: 0.3946 - accuracy: 0.8308\n",
            "Epoch 164/200\n",
            "11/11 [==============================] - 0s 5ms/step - loss: 0.3863 - accuracy: 0.8308\n",
            "Epoch 165/200\n",
            "11/11 [==============================] - 0s 7ms/step - loss: 0.3864 - accuracy: 0.8462\n",
            "Epoch 166/200\n",
            "11/11 [==============================] - 0s 8ms/step - loss: 0.3822 - accuracy: 0.8462\n",
            "Epoch 167/200\n",
            "11/11 [==============================] - 0s 7ms/step - loss: 0.3805 - accuracy: 0.8462\n",
            "Epoch 168/200\n",
            "11/11 [==============================] - 0s 9ms/step - loss: 0.3790 - accuracy: 0.8462\n",
            "Epoch 169/200\n",
            "11/11 [==============================] - 0s 4ms/step - loss: 0.3832 - accuracy: 0.8308\n",
            "Epoch 170/200\n",
            "11/11 [==============================] - 0s 3ms/step - loss: 0.3745 - accuracy: 0.8462\n",
            "Epoch 171/200\n",
            "11/11 [==============================] - 0s 4ms/step - loss: 0.3761 - accuracy: 0.8462\n",
            "Epoch 172/200\n",
            "11/11 [==============================] - 0s 4ms/step - loss: 0.3739 - accuracy: 0.8615\n",
            "Epoch 173/200\n",
            "11/11 [==============================] - 0s 4ms/step - loss: 0.3770 - accuracy: 0.8462\n",
            "Epoch 174/200\n",
            "11/11 [==============================] - 0s 7ms/step - loss: 0.3758 - accuracy: 0.8462\n",
            "Epoch 175/200\n",
            "11/11 [==============================] - 0s 3ms/step - loss: 0.3680 - accuracy: 0.8462\n",
            "Epoch 176/200\n",
            "11/11 [==============================] - 0s 3ms/step - loss: 0.3680 - accuracy: 0.8462\n",
            "Epoch 177/200\n",
            "11/11 [==============================] - 0s 4ms/step - loss: 0.3687 - accuracy: 0.8462\n",
            "Epoch 178/200\n",
            "11/11 [==============================] - 0s 3ms/step - loss: 0.3656 - accuracy: 0.8462\n",
            "Epoch 179/200\n",
            "11/11 [==============================] - 0s 3ms/step - loss: 0.3630 - accuracy: 0.8462\n",
            "Epoch 180/200\n",
            "11/11 [==============================] - 0s 3ms/step - loss: 0.3624 - accuracy: 0.8462\n",
            "Epoch 181/200\n",
            "11/11 [==============================] - 0s 3ms/step - loss: 0.3604 - accuracy: 0.8462\n",
            "Epoch 182/200\n",
            "11/11 [==============================] - 0s 3ms/step - loss: 0.3615 - accuracy: 0.8462\n",
            "Epoch 183/200\n",
            "11/11 [==============================] - 0s 3ms/step - loss: 0.3588 - accuracy: 0.8462\n",
            "Epoch 184/200\n",
            "11/11 [==============================] - 0s 3ms/step - loss: 0.3571 - accuracy: 0.8462\n",
            "Epoch 185/200\n",
            "11/11 [==============================] - 0s 3ms/step - loss: 0.3573 - accuracy: 0.8462\n",
            "Epoch 186/200\n",
            "11/11 [==============================] - 0s 3ms/step - loss: 0.3547 - accuracy: 0.8462\n",
            "Epoch 187/200\n",
            "11/11 [==============================] - 0s 3ms/step - loss: 0.3543 - accuracy: 0.8462\n",
            "Epoch 188/200\n",
            "11/11 [==============================] - 0s 3ms/step - loss: 0.3512 - accuracy: 0.8462\n",
            "Epoch 189/200\n",
            "11/11 [==============================] - 0s 4ms/step - loss: 0.3520 - accuracy: 0.8462\n",
            "Epoch 190/200\n",
            "11/11 [==============================] - 0s 3ms/step - loss: 0.3488 - accuracy: 0.8462\n",
            "Epoch 191/200\n",
            "11/11 [==============================] - 0s 7ms/step - loss: 0.3490 - accuracy: 0.8462\n",
            "Epoch 192/200\n",
            "11/11 [==============================] - 0s 3ms/step - loss: 0.3560 - accuracy: 0.8615\n",
            "Epoch 193/200\n",
            "11/11 [==============================] - 0s 3ms/step - loss: 0.3500 - accuracy: 0.8615\n",
            "Epoch 194/200\n",
            "11/11 [==============================] - 0s 4ms/step - loss: 0.3464 - accuracy: 0.8462\n",
            "Epoch 195/200\n",
            "11/11 [==============================] - 0s 3ms/step - loss: 0.3463 - accuracy: 0.8462\n",
            "Epoch 196/200\n",
            "11/11 [==============================] - 0s 3ms/step - loss: 0.3457 - accuracy: 0.8615\n",
            "Epoch 197/200\n",
            "11/11 [==============================] - 0s 3ms/step - loss: 0.3389 - accuracy: 0.8615\n",
            "Epoch 198/200\n",
            "11/11 [==============================] - 0s 3ms/step - loss: 0.3440 - accuracy: 0.8462\n",
            "Epoch 199/200\n",
            "11/11 [==============================] - 0s 4ms/step - loss: 0.3386 - accuracy: 0.8462\n",
            "Epoch 200/200\n",
            "11/11 [==============================] - 0s 3ms/step - loss: 0.3380 - accuracy: 0.8615\n"
          ]
        }
      ]
    },
    {
      "cell_type": "code",
      "source": [
        "model.evaluate(x_test, y_test)"
      ],
      "metadata": {
        "colab": {
          "base_uri": "https://localhost:8080/"
        },
        "id": "elyMrpzX_3DD",
        "outputId": "bc4c3fd0-0b67-4f73-fc91-278a3a5bee47"
      },
      "execution_count": 37,
      "outputs": [
        {
          "output_type": "stream",
          "name": "stdout",
          "text": [
            "1/1 [==============================] - 0s 161ms/step - loss: 0.5908 - accuracy: 0.5882\n"
          ]
        },
        {
          "output_type": "execute_result",
          "data": {
            "text/plain": [
              "[0.5908085703849792, 0.5882353186607361]"
            ]
          },
          "metadata": {},
          "execution_count": 37
        }
      ]
    },
    {
      "cell_type": "code",
      "source": [
        "predictions = model.predict(x_test)\n",
        "list(zip([int(pred >0.5)for pred in predictions],list(y[0] for y in y_test)))"
      ],
      "metadata": {
        "colab": {
          "base_uri": "https://localhost:8080/"
        },
        "id": "0OaJRX71Iy8q",
        "outputId": "60f3468e-c0a9-4295-dbae-1090a2e120ed"
      },
      "execution_count": 38,
      "outputs": [
        {
          "output_type": "stream",
          "name": "stdout",
          "text": [
            "1/1 [==============================] - 0s 94ms/step\n"
          ]
        },
        {
          "output_type": "execute_result",
          "data": {
            "text/plain": [
              "[(0, 0),\n",
              " (0, 0),\n",
              " (0, 1),\n",
              " (0, 0),\n",
              " (0, 1),\n",
              " (0, 1),\n",
              " (1, 0),\n",
              " (0, 0),\n",
              " (0, 1),\n",
              " (0, 0),\n",
              " (0, 0),\n",
              " (0, 0),\n",
              " (0, 0),\n",
              " (0, 1),\n",
              " (0, 0),\n",
              " (0, 1),\n",
              " (0, 0)]"
            ]
          },
          "metadata": {},
          "execution_count": 38
        }
      ]
    },
    {
      "cell_type": "markdown",
      "source": [
        "Prédiction du vainqueur de la conférence Ouest : Denver Nuggets"
      ],
      "metadata": {
        "id": "n2fbgQjoD4d3"
      }
    },
    {
      "cell_type": "code",
      "source": [
        "result_eastern = model.predict(np.array(list(list(games_western) for games_western in  games_western_coded.values()))) > 0.5 "
      ],
      "metadata": {
        "colab": {
          "base_uri": "https://localhost:8080/"
        },
        "id": "CiI6ugXPIzfZ",
        "outputId": "2a555015-a235-4756-c58e-3430b182a0b9"
      },
      "execution_count": 39,
      "outputs": [
        {
          "output_type": "stream",
          "name": "stdout",
          "text": [
            "1/1 [==============================] - 0s 22ms/step\n"
          ]
        }
      ]
    },
    {
      "cell_type": "code",
      "source": [
        "game_result = {}\n",
        "for i,game in enumerate(games_western) :\n",
        "  game_result[game] = (\n",
        "      games_western[game][2],\n",
        "      games_western[game][3],\n",
        "       {\n",
        "          'result' : games_western[game][2] if result_western[i] else games_western[game][3]\n",
        "      }\n",
        "  )\n",
        "game_result"
      ],
      "metadata": {
        "id": "hpwa4gUEJeit"
      },
      "execution_count": 40,
      "outputs": []
    },
    {
      "cell_type": "code",
      "source": [
        "vectory_game_count_DenverNuggets = len([game_result[key][2]['result'] for key in game_result  if game_result[key][2]['result']=='Denver Nuggets'])\n",
        "vectory_game_count_LosAngelesLakers = len([game_result[key][2]['result'] for key in game_result  if game_result[key][2]['result']=='Los Angeles Lakers'])\n",
        "vectory_game_count_DenverNuggets, vectory_game_count_LosAngelesLakers"
      ],
      "metadata": {
        "id": "s4-tMfBTMd51",
        "colab": {
          "base_uri": "https://localhost:8080/"
        },
        "outputId": "4188540e-eb3d-406e-818c-f348fe8b3888"
      },
      "execution_count": 41,
      "outputs": [
        {
          "output_type": "execute_result",
          "data": {
            "text/plain": [
              "(4, 3)"
            ]
          },
          "metadata": {},
          "execution_count": 41
        }
      ]
    },
    {
      "cell_type": "markdown",
      "source": [
        "Prédiction du vainqueur de la conférence Est : Boston Celtics"
      ],
      "metadata": {
        "id": "FyKb9UYREqoz"
      }
    },
    {
      "cell_type": "code",
      "source": [
        "result_eastern = model.predict(np.array(list(list(games_eastern) for games_eastern in  games_eastern_coded.values()))) > 0.5 "
      ],
      "metadata": {
        "colab": {
          "base_uri": "https://localhost:8080/"
        },
        "id": "f5lY8eKkNN4e",
        "outputId": "804265fa-eede-4137-f45b-2db910d03313"
      },
      "execution_count": 42,
      "outputs": [
        {
          "output_type": "stream",
          "name": "stdout",
          "text": [
            "1/1 [==============================] - 0s 23ms/step\n"
          ]
        }
      ]
    },
    {
      "cell_type": "code",
      "source": [
        "game_eastern_result = {}\n",
        "for i,game in enumerate(games_eastern) :\n",
        "  game_eastern_result[game] = (\n",
        "      games_eastern[game][2],\n",
        "      games_eastern[game][3],\n",
        "       {\n",
        "          'result' : games_eastern[game][2] if result_eastern[i] else games_eastern[game][3]\n",
        "      }\n",
        "  )\n",
        "game_eastern_result"
      ],
      "metadata": {
        "id": "v_RiseGoRYIc"
      },
      "execution_count": 43,
      "outputs": []
    },
    {
      "cell_type": "code",
      "source": [
        "vectory_game_count_MiamiHeat = len([game_eastern_result[key][2]['result'] for key in game_eastern_result  if game_eastern_result[key][2]['result']=='Miami Heat'])\n",
        "vectory_game_count_BostonCeltics = len([game_eastern_result[key][2]['result'] for key in game_eastern_result  if game_eastern_result[key][2]['result']=='Boston Celtics'])\n",
        "vectory_game_count_MiamiHeat, vectory_game_count_BostonCeltics"
      ],
      "metadata": {
        "colab": {
          "base_uri": "https://localhost:8080/"
        },
        "id": "alekXpRkRbd3",
        "outputId": "bb2ffb1c-ffce-4aa7-c1ff-450162ff38f5"
      },
      "execution_count": 44,
      "outputs": [
        {
          "output_type": "execute_result",
          "data": {
            "text/plain": [
              "(3, 4)"
            ]
          },
          "metadata": {},
          "execution_count": 44
        }
      ]
    },
    {
      "cell_type": "markdown",
      "source": [
        "Prédiction du champion NBA 2022/2023 en fonction des deux vainqueurs : Denver Nuggets"
      ],
      "metadata": {
        "id": "eE0MLtDpFQOG"
      }
    },
    {
      "cell_type": "code",
      "source": [
        "data_champion = np.array([\n",
        "        [\n",
        "          1,\n",
        "          1,\n",
        "         normalization_minmax(clubs['Boston Celtics'],**min_max_dict['Visitor/Neutral']),\n",
        "         normalization_minmax(clubs['Denver Nuggets'],**min_max_dict['Home/Neutral'])\n",
        "      ],\n",
        "])"
      ],
      "metadata": {
        "id": "mrmZ6XlrUQ5r"
      },
      "execution_count": 45,
      "outputs": []
    },
    {
      "cell_type": "code",
      "source": [
        "champion_pred =  int((model.predict(data_champion) > 0.5)[0][0])"
      ],
      "metadata": {
        "colab": {
          "base_uri": "https://localhost:8080/"
        },
        "id": "V0smOd9MRfYW",
        "outputId": "7f63582f-a23d-48fa-8996-721abb11cbcb"
      },
      "execution_count": 46,
      "outputs": [
        {
          "output_type": "stream",
          "name": "stdout",
          "text": [
            "1/1 [==============================] - 0s 20ms/step\n"
          ]
        }
      ]
    },
    {
      "cell_type": "code",
      "source": [
        "champion_pred"
      ],
      "metadata": {
        "colab": {
          "base_uri": "https://localhost:8080/"
        },
        "id": "piXS1VZ8TjST",
        "outputId": "d12553b5-f8f0-4cc5-d2a4-fd092d74634f"
      },
      "execution_count": 47,
      "outputs": [
        {
          "output_type": "execute_result",
          "data": {
            "text/plain": [
              "0"
            ]
          },
          "metadata": {},
          "execution_count": 47
        }
      ]
    },
    {
      "cell_type": "markdown",
      "source": [
        "# **Statistic Method**"
      ],
      "metadata": {
        "id": "gmeXcHTR8a_E"
      }
    },
    {
      "cell_type": "markdown",
      "source": [
        "## ***Eastern --> Boston Celtics***"
      ],
      "metadata": {
        "id": "qjfwDF-s85N3"
      }
    },
    {
      "cell_type": "code",
      "source": [
        "count_vicroty_BostonCeltics_visitor = len(df[ \n",
        "      ( (df['result'] == True) & (df['Visitor/Neutral'] == final['Eastern'][0]) )\n",
        "])\n",
        "\n",
        "count_vicroty_BostonCeltics_home = len(df[ \n",
        "    ( (df['result'] == False) & (df['Home/Neutral'] == final['Eastern'][0]) )\n",
        "])\n",
        "\n",
        "count_vicroty_MiamiHeat_visitor = len(df[ \n",
        "      ( (df['result'] == True) & (df['Visitor/Neutral'] == final['Eastern'][1]) )\n",
        "])\n",
        "\n",
        "count_vicroty_MiamiHeat_home =  len(df[ \n",
        "    ( (df['result'] == False) & (df['Home/Neutral'] == final['Eastern'][1]) )\n",
        "])\n",
        "\n",
        "\n",
        "count_vicroty_BostonCeltics = count_vicroty_BostonCeltics_visitor + count_vicroty_BostonCeltics_home\n",
        "count_vicroty_MiamiHeat = count_vicroty_MiamiHeat_visitor + count_vicroty_MiamiHeat_home\n",
        "  \n"
      ],
      "metadata": {
        "id": "M1qonCVg886m"
      },
      "execution_count": 48,
      "outputs": []
    },
    {
      "cell_type": "code",
      "source": [
        "print(\"le nombre de matches gagné en tant que visiteuse\")\n",
        "print(\"(Boston Celtics , Miami Heat) : \", (count_vicroty_BostonCeltics_visitor, count_vicroty_MiamiHeat_visitor))\n",
        "print(\"le nombre de matches gagnés par les deux équipes jouant à domicile\")\n",
        "print(\"(Boston Celtics , Miami Heat) : \", (count_vicroty_BostonCeltics_home, count_vicroty_MiamiHeat_home))\n",
        "print(\"Total des matchs gagnés\")\n",
        "print(\"(Boston Celtics , Miami Heat) : \", (count_vicroty_BostonCeltics, count_vicroty_MiamiHeat))\n",
        "\n"
      ],
      "metadata": {
        "colab": {
          "base_uri": "https://localhost:8080/"
        },
        "id": "cmXBp4NC8uZw",
        "outputId": "50e334d9-bdd4-485c-beed-34f49793e551"
      },
      "execution_count": 49,
      "outputs": [
        {
          "output_type": "stream",
          "name": "stdout",
          "text": [
            "le nombre de matches gagné en tant que visiteuse\n",
            "(Boston Celtics , Miami Heat) :  (4, 3)\n",
            "le nombre de matches gagnés par les deux équipes jouant à domicile\n",
            "(Boston Celtics , Miami Heat) :  (8, 8)\n",
            "Total des matchs gagnés\n",
            "(Boston Celtics , Miami Heat) :  (12, 11)\n"
          ]
        }
      ]
    },
    {
      "cell_type": "code",
      "source": [
        "df[ \n",
        "      ( (df['Visitor/Neutral'] == final['Eastern'][0]) & (df['Home/Neutral'] == final['Eastern'][1]) )\n",
        "]\n",
        "# Les résultats des matchs joués entre les Boston Celtics et le Miami Heat au domicile des Boston Celtics.\n",
        "# "
      ],
      "metadata": {
        "colab": {
          "base_uri": "https://localhost:8080/",
          "height": 143
        },
        "id": "d_TPSdGS9BL9",
        "outputId": "40a55550-757c-4d78-fbbe-093b88b44cbf"
      },
      "execution_count": 50,
      "outputs": [
        {
          "output_type": "execute_result",
          "data": {
            "text/plain": [
              "    Visitor/Neutral  Home/Neutral  result       day  day_name\n",
              "73         0.066667           0.2       0  0.689655  1.000000\n",
              "75         0.066667           0.2       0  0.758621  0.166667\n",
              "79         0.066667           0.2       0  0.896552  0.833333"
            ],
            "text/html": [
              "\n",
              "  <div id=\"df-0f5cb1b3-4e9c-463e-b8fb-9a23fa5e6611\">\n",
              "    <div class=\"colab-df-container\">\n",
              "      <div>\n",
              "<style scoped>\n",
              "    .dataframe tbody tr th:only-of-type {\n",
              "        vertical-align: middle;\n",
              "    }\n",
              "\n",
              "    .dataframe tbody tr th {\n",
              "        vertical-align: top;\n",
              "    }\n",
              "\n",
              "    .dataframe thead th {\n",
              "        text-align: right;\n",
              "    }\n",
              "</style>\n",
              "<table border=\"1\" class=\"dataframe\">\n",
              "  <thead>\n",
              "    <tr style=\"text-align: right;\">\n",
              "      <th></th>\n",
              "      <th>Visitor/Neutral</th>\n",
              "      <th>Home/Neutral</th>\n",
              "      <th>result</th>\n",
              "      <th>day</th>\n",
              "      <th>day_name</th>\n",
              "    </tr>\n",
              "  </thead>\n",
              "  <tbody>\n",
              "    <tr>\n",
              "      <th>73</th>\n",
              "      <td>0.066667</td>\n",
              "      <td>0.2</td>\n",
              "      <td>0</td>\n",
              "      <td>0.689655</td>\n",
              "      <td>1.000000</td>\n",
              "    </tr>\n",
              "    <tr>\n",
              "      <th>75</th>\n",
              "      <td>0.066667</td>\n",
              "      <td>0.2</td>\n",
              "      <td>0</td>\n",
              "      <td>0.758621</td>\n",
              "      <td>0.166667</td>\n",
              "    </tr>\n",
              "    <tr>\n",
              "      <th>79</th>\n",
              "      <td>0.066667</td>\n",
              "      <td>0.2</td>\n",
              "      <td>0</td>\n",
              "      <td>0.896552</td>\n",
              "      <td>0.833333</td>\n",
              "    </tr>\n",
              "  </tbody>\n",
              "</table>\n",
              "</div>\n",
              "      <button class=\"colab-df-convert\" onclick=\"convertToInteractive('df-0f5cb1b3-4e9c-463e-b8fb-9a23fa5e6611')\"\n",
              "              title=\"Convert this dataframe to an interactive table.\"\n",
              "              style=\"display:none;\">\n",
              "        \n",
              "  <svg xmlns=\"http://www.w3.org/2000/svg\" height=\"24px\"viewBox=\"0 0 24 24\"\n",
              "       width=\"24px\">\n",
              "    <path d=\"M0 0h24v24H0V0z\" fill=\"none\"/>\n",
              "    <path d=\"M18.56 5.44l.94 2.06.94-2.06 2.06-.94-2.06-.94-.94-2.06-.94 2.06-2.06.94zm-11 1L8.5 8.5l.94-2.06 2.06-.94-2.06-.94L8.5 2.5l-.94 2.06-2.06.94zm10 10l.94 2.06.94-2.06 2.06-.94-2.06-.94-.94-2.06-.94 2.06-2.06.94z\"/><path d=\"M17.41 7.96l-1.37-1.37c-.4-.4-.92-.59-1.43-.59-.52 0-1.04.2-1.43.59L10.3 9.45l-7.72 7.72c-.78.78-.78 2.05 0 2.83L4 21.41c.39.39.9.59 1.41.59.51 0 1.02-.2 1.41-.59l7.78-7.78 2.81-2.81c.8-.78.8-2.07 0-2.86zM5.41 20L4 18.59l7.72-7.72 1.47 1.35L5.41 20z\"/>\n",
              "  </svg>\n",
              "      </button>\n",
              "      \n",
              "  <style>\n",
              "    .colab-df-container {\n",
              "      display:flex;\n",
              "      flex-wrap:wrap;\n",
              "      gap: 12px;\n",
              "    }\n",
              "\n",
              "    .colab-df-convert {\n",
              "      background-color: #E8F0FE;\n",
              "      border: none;\n",
              "      border-radius: 50%;\n",
              "      cursor: pointer;\n",
              "      display: none;\n",
              "      fill: #1967D2;\n",
              "      height: 32px;\n",
              "      padding: 0 0 0 0;\n",
              "      width: 32px;\n",
              "    }\n",
              "\n",
              "    .colab-df-convert:hover {\n",
              "      background-color: #E2EBFA;\n",
              "      box-shadow: 0px 1px 2px rgba(60, 64, 67, 0.3), 0px 1px 3px 1px rgba(60, 64, 67, 0.15);\n",
              "      fill: #174EA6;\n",
              "    }\n",
              "\n",
              "    [theme=dark] .colab-df-convert {\n",
              "      background-color: #3B4455;\n",
              "      fill: #D2E3FC;\n",
              "    }\n",
              "\n",
              "    [theme=dark] .colab-df-convert:hover {\n",
              "      background-color: #434B5C;\n",
              "      box-shadow: 0px 1px 3px 1px rgba(0, 0, 0, 0.15);\n",
              "      filter: drop-shadow(0px 1px 2px rgba(0, 0, 0, 0.3));\n",
              "      fill: #FFFFFF;\n",
              "    }\n",
              "  </style>\n",
              "\n",
              "      <script>\n",
              "        const buttonEl =\n",
              "          document.querySelector('#df-0f5cb1b3-4e9c-463e-b8fb-9a23fa5e6611 button.colab-df-convert');\n",
              "        buttonEl.style.display =\n",
              "          google.colab.kernel.accessAllowed ? 'block' : 'none';\n",
              "\n",
              "        async function convertToInteractive(key) {\n",
              "          const element = document.querySelector('#df-0f5cb1b3-4e9c-463e-b8fb-9a23fa5e6611');\n",
              "          const dataTable =\n",
              "            await google.colab.kernel.invokeFunction('convertToInteractive',\n",
              "                                                     [key], {});\n",
              "          if (!dataTable) return;\n",
              "\n",
              "          const docLinkHtml = 'Like what you see? Visit the ' +\n",
              "            '<a target=\"_blank\" href=https://colab.research.google.com/notebooks/data_table.ipynb>data table notebook</a>'\n",
              "            + ' to learn more about interactive tables.';\n",
              "          element.innerHTML = '';\n",
              "          dataTable['output_type'] = 'display_data';\n",
              "          await google.colab.output.renderOutput(dataTable, element);\n",
              "          const docLink = document.createElement('div');\n",
              "          docLink.innerHTML = docLinkHtml;\n",
              "          element.appendChild(docLink);\n",
              "        }\n",
              "      </script>\n",
              "    </div>\n",
              "  </div>\n",
              "  "
            ]
          },
          "metadata": {},
          "execution_count": 50
        }
      ]
    },
    {
      "cell_type": "code",
      "source": [
        "\"\"\"\n",
        "Miami Heat a remporté trois victoires contre les Boston Celtics lors de leurs affrontements sur le terrain des Celtics à Boston.\n",
        "\"\"\""
      ],
      "metadata": {
        "colab": {
          "base_uri": "https://localhost:8080/",
          "height": 36
        },
        "id": "2mSFDkQLKO_M",
        "outputId": "05bf5798-59a5-4e4c-cbfa-ff4618448801"
      },
      "execution_count": 51,
      "outputs": [
        {
          "output_type": "execute_result",
          "data": {
            "text/plain": [
              "'\\nMiami Heat a remporté trois victoires contre les Boston Celtics lors de leurs affrontements sur le terrain des Celtics à Boston.\\n'"
            ],
            "application/vnd.google.colaboratory.intrinsic+json": {
              "type": "string"
            }
          },
          "metadata": {},
          "execution_count": 51
        }
      ]
    },
    {
      "cell_type": "code",
      "source": [
        "df[\n",
        "    ( (df['Visitor/Neutral'] == final['Eastern'][1]) & (df['Home/Neutral'] == final['Eastern'][0]) ) \n",
        "]\n",
        "\n",
        "# Les résultats des matchs joués entre les Boston Celtics et le Miami Heat au domicile des Miami Heat."
      ],
      "metadata": {
        "colab": {
          "base_uri": "https://localhost:8080/",
          "height": 175
        },
        "id": "qpSdDCUL9C9Y",
        "outputId": "ae60246a-f7cd-49db-f264-d638dd68f048"
      },
      "execution_count": 52,
      "outputs": [
        {
          "output_type": "execute_result",
          "data": {
            "text/plain": [
              "    Visitor/Neutral  Home/Neutral  result       day  day_name\n",
              "69              0.2      0.066667       0  0.551724  0.333333\n",
              "71              0.2      0.066667       0  0.620690  0.666667\n",
              "77              0.2      0.066667       0  0.827586  0.500000\n",
              "81              0.2      0.066667       0  0.965517  0.000000"
            ],
            "text/html": [
              "\n",
              "  <div id=\"df-7db98ec8-5405-4469-b8bb-2e4030fc7343\">\n",
              "    <div class=\"colab-df-container\">\n",
              "      <div>\n",
              "<style scoped>\n",
              "    .dataframe tbody tr th:only-of-type {\n",
              "        vertical-align: middle;\n",
              "    }\n",
              "\n",
              "    .dataframe tbody tr th {\n",
              "        vertical-align: top;\n",
              "    }\n",
              "\n",
              "    .dataframe thead th {\n",
              "        text-align: right;\n",
              "    }\n",
              "</style>\n",
              "<table border=\"1\" class=\"dataframe\">\n",
              "  <thead>\n",
              "    <tr style=\"text-align: right;\">\n",
              "      <th></th>\n",
              "      <th>Visitor/Neutral</th>\n",
              "      <th>Home/Neutral</th>\n",
              "      <th>result</th>\n",
              "      <th>day</th>\n",
              "      <th>day_name</th>\n",
              "    </tr>\n",
              "  </thead>\n",
              "  <tbody>\n",
              "    <tr>\n",
              "      <th>69</th>\n",
              "      <td>0.2</td>\n",
              "      <td>0.066667</td>\n",
              "      <td>0</td>\n",
              "      <td>0.551724</td>\n",
              "      <td>0.333333</td>\n",
              "    </tr>\n",
              "    <tr>\n",
              "      <th>71</th>\n",
              "      <td>0.2</td>\n",
              "      <td>0.066667</td>\n",
              "      <td>0</td>\n",
              "      <td>0.620690</td>\n",
              "      <td>0.666667</td>\n",
              "    </tr>\n",
              "    <tr>\n",
              "      <th>77</th>\n",
              "      <td>0.2</td>\n",
              "      <td>0.066667</td>\n",
              "      <td>0</td>\n",
              "      <td>0.827586</td>\n",
              "      <td>0.500000</td>\n",
              "    </tr>\n",
              "    <tr>\n",
              "      <th>81</th>\n",
              "      <td>0.2</td>\n",
              "      <td>0.066667</td>\n",
              "      <td>0</td>\n",
              "      <td>0.965517</td>\n",
              "      <td>0.000000</td>\n",
              "    </tr>\n",
              "  </tbody>\n",
              "</table>\n",
              "</div>\n",
              "      <button class=\"colab-df-convert\" onclick=\"convertToInteractive('df-7db98ec8-5405-4469-b8bb-2e4030fc7343')\"\n",
              "              title=\"Convert this dataframe to an interactive table.\"\n",
              "              style=\"display:none;\">\n",
              "        \n",
              "  <svg xmlns=\"http://www.w3.org/2000/svg\" height=\"24px\"viewBox=\"0 0 24 24\"\n",
              "       width=\"24px\">\n",
              "    <path d=\"M0 0h24v24H0V0z\" fill=\"none\"/>\n",
              "    <path d=\"M18.56 5.44l.94 2.06.94-2.06 2.06-.94-2.06-.94-.94-2.06-.94 2.06-2.06.94zm-11 1L8.5 8.5l.94-2.06 2.06-.94-2.06-.94L8.5 2.5l-.94 2.06-2.06.94zm10 10l.94 2.06.94-2.06 2.06-.94-2.06-.94-.94-2.06-.94 2.06-2.06.94z\"/><path d=\"M17.41 7.96l-1.37-1.37c-.4-.4-.92-.59-1.43-.59-.52 0-1.04.2-1.43.59L10.3 9.45l-7.72 7.72c-.78.78-.78 2.05 0 2.83L4 21.41c.39.39.9.59 1.41.59.51 0 1.02-.2 1.41-.59l7.78-7.78 2.81-2.81c.8-.78.8-2.07 0-2.86zM5.41 20L4 18.59l7.72-7.72 1.47 1.35L5.41 20z\"/>\n",
              "  </svg>\n",
              "      </button>\n",
              "      \n",
              "  <style>\n",
              "    .colab-df-container {\n",
              "      display:flex;\n",
              "      flex-wrap:wrap;\n",
              "      gap: 12px;\n",
              "    }\n",
              "\n",
              "    .colab-df-convert {\n",
              "      background-color: #E8F0FE;\n",
              "      border: none;\n",
              "      border-radius: 50%;\n",
              "      cursor: pointer;\n",
              "      display: none;\n",
              "      fill: #1967D2;\n",
              "      height: 32px;\n",
              "      padding: 0 0 0 0;\n",
              "      width: 32px;\n",
              "    }\n",
              "\n",
              "    .colab-df-convert:hover {\n",
              "      background-color: #E2EBFA;\n",
              "      box-shadow: 0px 1px 2px rgba(60, 64, 67, 0.3), 0px 1px 3px 1px rgba(60, 64, 67, 0.15);\n",
              "      fill: #174EA6;\n",
              "    }\n",
              "\n",
              "    [theme=dark] .colab-df-convert {\n",
              "      background-color: #3B4455;\n",
              "      fill: #D2E3FC;\n",
              "    }\n",
              "\n",
              "    [theme=dark] .colab-df-convert:hover {\n",
              "      background-color: #434B5C;\n",
              "      box-shadow: 0px 1px 3px 1px rgba(0, 0, 0, 0.15);\n",
              "      filter: drop-shadow(0px 1px 2px rgba(0, 0, 0, 0.3));\n",
              "      fill: #FFFFFF;\n",
              "    }\n",
              "  </style>\n",
              "\n",
              "      <script>\n",
              "        const buttonEl =\n",
              "          document.querySelector('#df-7db98ec8-5405-4469-b8bb-2e4030fc7343 button.colab-df-convert');\n",
              "        buttonEl.style.display =\n",
              "          google.colab.kernel.accessAllowed ? 'block' : 'none';\n",
              "\n",
              "        async function convertToInteractive(key) {\n",
              "          const element = document.querySelector('#df-7db98ec8-5405-4469-b8bb-2e4030fc7343');\n",
              "          const dataTable =\n",
              "            await google.colab.kernel.invokeFunction('convertToInteractive',\n",
              "                                                     [key], {});\n",
              "          if (!dataTable) return;\n",
              "\n",
              "          const docLinkHtml = 'Like what you see? Visit the ' +\n",
              "            '<a target=\"_blank\" href=https://colab.research.google.com/notebooks/data_table.ipynb>data table notebook</a>'\n",
              "            + ' to learn more about interactive tables.';\n",
              "          element.innerHTML = '';\n",
              "          dataTable['output_type'] = 'display_data';\n",
              "          await google.colab.output.renderOutput(dataTable, element);\n",
              "          const docLink = document.createElement('div');\n",
              "          docLink.innerHTML = docLinkHtml;\n",
              "          element.appendChild(docLink);\n",
              "        }\n",
              "      </script>\n",
              "    </div>\n",
              "  </div>\n",
              "  "
            ]
          },
          "metadata": {},
          "execution_count": 52
        }
      ]
    },
    {
      "cell_type": "code",
      "source": [
        "\"\"\"\n",
        "Boston Celtics a remporté quatres victoires contre Miami Heat lors de leurs affrontements sur le terrain de Miami Heat.\n",
        "\"\"\""
      ],
      "metadata": {
        "colab": {
          "base_uri": "https://localhost:8080/",
          "height": 36
        },
        "id": "jGO0bwUrL_pg",
        "outputId": "412c71e7-2598-456e-d2e0-c0a9a2113de3"
      },
      "execution_count": 53,
      "outputs": [
        {
          "output_type": "execute_result",
          "data": {
            "text/plain": [
              "'\\nBoston Celtics a remporté quatres victoires contre Miami Heat lors de leurs affrontements sur le terrain de Miami Heat.\\n'"
            ],
            "application/vnd.google.colaboratory.intrinsic+json": {
              "type": "string"
            }
          },
          "metadata": {},
          "execution_count": 53
        }
      ]
    },
    {
      "cell_type": "code",
      "source": [
        "\"\"\"\n",
        "Les statistiques montrent que les Boston Celtics remporteront la Conférence de l'Est.\n",
        "\"\"\""
      ],
      "metadata": {
        "colab": {
          "base_uri": "https://localhost:8080/",
          "height": 36
        },
        "id": "6zBefFuu9Ekt",
        "outputId": "7ff4ec99-fa53-4efd-a6a8-55a5892762e8"
      },
      "execution_count": 54,
      "outputs": [
        {
          "output_type": "execute_result",
          "data": {
            "text/plain": [
              "\"\\nLes statistiques montrent que les Boston Celtics remporteront la Conférence de l'Est.\\n\""
            ],
            "application/vnd.google.colaboratory.intrinsic+json": {
              "type": "string"
            }
          },
          "metadata": {},
          "execution_count": 54
        }
      ]
    },
    {
      "cell_type": "markdown",
      "source": [
        "# ***Western --> Denver Nuggets***\n"
      ],
      "metadata": {
        "id": "xygoSpmG81CS"
      }
    },
    {
      "cell_type": "code",
      "source": [
        "count_vecroty_DenverNuggets_visitor = len(df[ \n",
        "      ( (df['result'] == True) & (df['Visitor/Neutral'] == final['Western'][0]) )\n",
        "])\n",
        "\n",
        "count_vecroty_DenverNuggets_home = len(df[ \n",
        "    ( (df['result'] == False) & (df['Home/Neutral'] == final['Western'][0]) )\n",
        "])\n",
        "\n",
        "count_vecroty_LosAngelesLakers_visitor = len(df[ \n",
        "      ( (df['result'] == True) & (df['Visitor/Neutral'] == final['Western'][1]) )\n",
        "])\n",
        "\n",
        "count_vecroty_LosAngelesLakers_home =  len(df[ \n",
        "    ( (df['result'] == False) & (df['Home/Neutral'] == final['Western'][1]) )\n",
        "])\n",
        "\n",
        "count_vecroty_DenverNuggets = count_vecroty_DenverNuggets_visitor + count_vecroty_DenverNuggets_home\n",
        "count_vecroty_LosAngelesLakers = count_vecroty_LosAngelesLakers_visitor + count_vecroty_LosAngelesLakers_home"
      ],
      "metadata": {
        "id": "92Ev3gPM9zEo"
      },
      "execution_count": 55,
      "outputs": []
    },
    {
      "cell_type": "code",
      "source": [
        "print(\"le nombre de matches gagné en tant que visiteuse\")\n",
        "print(\"(Denver Nuggets , Los Angeles Lakers) : \", (count_vecroty_DenverNuggets_visitor, count_vecroty_LosAngelesLakers_visitor))\n",
        "print(\"le nombre de matches gagnés par les deux équipes jouant à domicile\")\n",
        "print(\"(Denver Nuggets , Los Angeles Lakers) : \", (count_vecroty_DenverNuggets_home, count_vecroty_LosAngelesLakers_home))\n",
        "print(\"Total des matchs gagnés\")\n",
        "print(\"(Denver Nuggets , Los Angeles Lakers) : \", (count_vecroty_DenverNuggets, count_vecroty_LosAngelesLakers))\n"
      ],
      "metadata": {
        "colab": {
          "base_uri": "https://localhost:8080/"
        },
        "id": "QU0CApwaMvUx",
        "outputId": "761c62c3-46a1-4b48-897b-6fba3c87fc9f"
      },
      "execution_count": 56,
      "outputs": [
        {
          "output_type": "stream",
          "name": "stdout",
          "text": [
            "le nombre de matches gagné en tant que visiteuse\n",
            "(Denver Nuggets , Los Angeles Lakers) :  (2, 2)\n",
            "le nombre de matches gagnés par les deux équipes jouant à domicile\n",
            "(Denver Nuggets , Los Angeles Lakers) :  (10, 9)\n",
            "Total des matchs gagnés\n",
            "(Denver Nuggets , Los Angeles Lakers) :  (12, 11)\n"
          ]
        }
      ]
    },
    {
      "cell_type": "code",
      "source": [
        "df[ \n",
        "      ( (df['Visitor/Neutral'] == final['Western'][0]) & (df['Home/Neutral'] == final['Western'][1]) )\n",
        "]"
      ],
      "metadata": {
        "colab": {
          "base_uri": "https://localhost:8080/",
          "height": 143
        },
        "id": "uNc1iKLl-yTy",
        "outputId": "3448e3e5-3297-4aa2-cd76-0a143953eb51"
      },
      "execution_count": 57,
      "outputs": [
        {
          "output_type": "execute_result",
          "data": {
            "text/plain": [
              "    Visitor/Neutral  Home/Neutral  result       day  day_name\n",
              "72         0.333333           0.4       0  0.655172  0.833333\n",
              "74         0.333333           0.4       0  0.724138  0.000000\n",
              "78         0.333333           0.4       0  0.862069  0.666667"
            ],
            "text/html": [
              "\n",
              "  <div id=\"df-291c248a-d76f-4f14-a6d6-04d863e41d3a\">\n",
              "    <div class=\"colab-df-container\">\n",
              "      <div>\n",
              "<style scoped>\n",
              "    .dataframe tbody tr th:only-of-type {\n",
              "        vertical-align: middle;\n",
              "    }\n",
              "\n",
              "    .dataframe tbody tr th {\n",
              "        vertical-align: top;\n",
              "    }\n",
              "\n",
              "    .dataframe thead th {\n",
              "        text-align: right;\n",
              "    }\n",
              "</style>\n",
              "<table border=\"1\" class=\"dataframe\">\n",
              "  <thead>\n",
              "    <tr style=\"text-align: right;\">\n",
              "      <th></th>\n",
              "      <th>Visitor/Neutral</th>\n",
              "      <th>Home/Neutral</th>\n",
              "      <th>result</th>\n",
              "      <th>day</th>\n",
              "      <th>day_name</th>\n",
              "    </tr>\n",
              "  </thead>\n",
              "  <tbody>\n",
              "    <tr>\n",
              "      <th>72</th>\n",
              "      <td>0.333333</td>\n",
              "      <td>0.4</td>\n",
              "      <td>0</td>\n",
              "      <td>0.655172</td>\n",
              "      <td>0.833333</td>\n",
              "    </tr>\n",
              "    <tr>\n",
              "      <th>74</th>\n",
              "      <td>0.333333</td>\n",
              "      <td>0.4</td>\n",
              "      <td>0</td>\n",
              "      <td>0.724138</td>\n",
              "      <td>0.000000</td>\n",
              "    </tr>\n",
              "    <tr>\n",
              "      <th>78</th>\n",
              "      <td>0.333333</td>\n",
              "      <td>0.4</td>\n",
              "      <td>0</td>\n",
              "      <td>0.862069</td>\n",
              "      <td>0.666667</td>\n",
              "    </tr>\n",
              "  </tbody>\n",
              "</table>\n",
              "</div>\n",
              "      <button class=\"colab-df-convert\" onclick=\"convertToInteractive('df-291c248a-d76f-4f14-a6d6-04d863e41d3a')\"\n",
              "              title=\"Convert this dataframe to an interactive table.\"\n",
              "              style=\"display:none;\">\n",
              "        \n",
              "  <svg xmlns=\"http://www.w3.org/2000/svg\" height=\"24px\"viewBox=\"0 0 24 24\"\n",
              "       width=\"24px\">\n",
              "    <path d=\"M0 0h24v24H0V0z\" fill=\"none\"/>\n",
              "    <path d=\"M18.56 5.44l.94 2.06.94-2.06 2.06-.94-2.06-.94-.94-2.06-.94 2.06-2.06.94zm-11 1L8.5 8.5l.94-2.06 2.06-.94-2.06-.94L8.5 2.5l-.94 2.06-2.06.94zm10 10l.94 2.06.94-2.06 2.06-.94-2.06-.94-.94-2.06-.94 2.06-2.06.94z\"/><path d=\"M17.41 7.96l-1.37-1.37c-.4-.4-.92-.59-1.43-.59-.52 0-1.04.2-1.43.59L10.3 9.45l-7.72 7.72c-.78.78-.78 2.05 0 2.83L4 21.41c.39.39.9.59 1.41.59.51 0 1.02-.2 1.41-.59l7.78-7.78 2.81-2.81c.8-.78.8-2.07 0-2.86zM5.41 20L4 18.59l7.72-7.72 1.47 1.35L5.41 20z\"/>\n",
              "  </svg>\n",
              "      </button>\n",
              "      \n",
              "  <style>\n",
              "    .colab-df-container {\n",
              "      display:flex;\n",
              "      flex-wrap:wrap;\n",
              "      gap: 12px;\n",
              "    }\n",
              "\n",
              "    .colab-df-convert {\n",
              "      background-color: #E8F0FE;\n",
              "      border: none;\n",
              "      border-radius: 50%;\n",
              "      cursor: pointer;\n",
              "      display: none;\n",
              "      fill: #1967D2;\n",
              "      height: 32px;\n",
              "      padding: 0 0 0 0;\n",
              "      width: 32px;\n",
              "    }\n",
              "\n",
              "    .colab-df-convert:hover {\n",
              "      background-color: #E2EBFA;\n",
              "      box-shadow: 0px 1px 2px rgba(60, 64, 67, 0.3), 0px 1px 3px 1px rgba(60, 64, 67, 0.15);\n",
              "      fill: #174EA6;\n",
              "    }\n",
              "\n",
              "    [theme=dark] .colab-df-convert {\n",
              "      background-color: #3B4455;\n",
              "      fill: #D2E3FC;\n",
              "    }\n",
              "\n",
              "    [theme=dark] .colab-df-convert:hover {\n",
              "      background-color: #434B5C;\n",
              "      box-shadow: 0px 1px 3px 1px rgba(0, 0, 0, 0.15);\n",
              "      filter: drop-shadow(0px 1px 2px rgba(0, 0, 0, 0.3));\n",
              "      fill: #FFFFFF;\n",
              "    }\n",
              "  </style>\n",
              "\n",
              "      <script>\n",
              "        const buttonEl =\n",
              "          document.querySelector('#df-291c248a-d76f-4f14-a6d6-04d863e41d3a button.colab-df-convert');\n",
              "        buttonEl.style.display =\n",
              "          google.colab.kernel.accessAllowed ? 'block' : 'none';\n",
              "\n",
              "        async function convertToInteractive(key) {\n",
              "          const element = document.querySelector('#df-291c248a-d76f-4f14-a6d6-04d863e41d3a');\n",
              "          const dataTable =\n",
              "            await google.colab.kernel.invokeFunction('convertToInteractive',\n",
              "                                                     [key], {});\n",
              "          if (!dataTable) return;\n",
              "\n",
              "          const docLinkHtml = 'Like what you see? Visit the ' +\n",
              "            '<a target=\"_blank\" href=https://colab.research.google.com/notebooks/data_table.ipynb>data table notebook</a>'\n",
              "            + ' to learn more about interactive tables.';\n",
              "          element.innerHTML = '';\n",
              "          dataTable['output_type'] = 'display_data';\n",
              "          await google.colab.output.renderOutput(dataTable, element);\n",
              "          const docLink = document.createElement('div');\n",
              "          docLink.innerHTML = docLinkHtml;\n",
              "          element.appendChild(docLink);\n",
              "        }\n",
              "      </script>\n",
              "    </div>\n",
              "  </div>\n",
              "  "
            ]
          },
          "metadata": {},
          "execution_count": 57
        }
      ]
    },
    {
      "cell_type": "code",
      "source": [
        "\"\"\"\n",
        "Los Angeles Lakers a remporté trois victoires contre les Denver Nuggets lors de leurs affrontements sur le terrain de Los Angeles Lakers.\n",
        "\"\"\""
      ],
      "metadata": {
        "colab": {
          "base_uri": "https://localhost:8080/",
          "height": 36
        },
        "id": "rfmi-GiCP1Ug",
        "outputId": "5bb128ba-15d6-474b-c8d4-e3870f0b0ca1"
      },
      "execution_count": 58,
      "outputs": [
        {
          "output_type": "execute_result",
          "data": {
            "text/plain": [
              "'\\nLos Angeles Lakers a remporté trois victoires contre les Denver Nuggets lors de leurs affrontements sur le terrain de Los Angeles Lakers.\\n'"
            ],
            "application/vnd.google.colaboratory.intrinsic+json": {
              "type": "string"
            }
          },
          "metadata": {},
          "execution_count": 58
        }
      ]
    },
    {
      "cell_type": "code",
      "source": [
        "df[( (df['Visitor/Neutral'] == final['Western'][1]) & (df['Home/Neutral'] == final['Western'][0]) ) ]"
      ],
      "metadata": {
        "colab": {
          "base_uri": "https://localhost:8080/",
          "height": 175
        },
        "id": "Er9N06Bl-0N-",
        "outputId": "7134a936-f492-48b1-bacd-db95d890c9d5"
      },
      "execution_count": 59,
      "outputs": [
        {
          "output_type": "execute_result",
          "data": {
            "text/plain": [
              "    Visitor/Neutral  Home/Neutral  result       day  day_name\n",
              "68              0.4      0.333333       0  0.517241  0.166667\n",
              "70              0.4      0.333333       0  0.586207  0.500000\n",
              "76              0.4      0.333333       0  0.793103  0.333333\n",
              "80              0.4      0.333333       0  0.931034  1.000000"
            ],
            "text/html": [
              "\n",
              "  <div id=\"df-fa59de63-97b7-4d48-903e-20115d1fe61d\">\n",
              "    <div class=\"colab-df-container\">\n",
              "      <div>\n",
              "<style scoped>\n",
              "    .dataframe tbody tr th:only-of-type {\n",
              "        vertical-align: middle;\n",
              "    }\n",
              "\n",
              "    .dataframe tbody tr th {\n",
              "        vertical-align: top;\n",
              "    }\n",
              "\n",
              "    .dataframe thead th {\n",
              "        text-align: right;\n",
              "    }\n",
              "</style>\n",
              "<table border=\"1\" class=\"dataframe\">\n",
              "  <thead>\n",
              "    <tr style=\"text-align: right;\">\n",
              "      <th></th>\n",
              "      <th>Visitor/Neutral</th>\n",
              "      <th>Home/Neutral</th>\n",
              "      <th>result</th>\n",
              "      <th>day</th>\n",
              "      <th>day_name</th>\n",
              "    </tr>\n",
              "  </thead>\n",
              "  <tbody>\n",
              "    <tr>\n",
              "      <th>68</th>\n",
              "      <td>0.4</td>\n",
              "      <td>0.333333</td>\n",
              "      <td>0</td>\n",
              "      <td>0.517241</td>\n",
              "      <td>0.166667</td>\n",
              "    </tr>\n",
              "    <tr>\n",
              "      <th>70</th>\n",
              "      <td>0.4</td>\n",
              "      <td>0.333333</td>\n",
              "      <td>0</td>\n",
              "      <td>0.586207</td>\n",
              "      <td>0.500000</td>\n",
              "    </tr>\n",
              "    <tr>\n",
              "      <th>76</th>\n",
              "      <td>0.4</td>\n",
              "      <td>0.333333</td>\n",
              "      <td>0</td>\n",
              "      <td>0.793103</td>\n",
              "      <td>0.333333</td>\n",
              "    </tr>\n",
              "    <tr>\n",
              "      <th>80</th>\n",
              "      <td>0.4</td>\n",
              "      <td>0.333333</td>\n",
              "      <td>0</td>\n",
              "      <td>0.931034</td>\n",
              "      <td>1.000000</td>\n",
              "    </tr>\n",
              "  </tbody>\n",
              "</table>\n",
              "</div>\n",
              "      <button class=\"colab-df-convert\" onclick=\"convertToInteractive('df-fa59de63-97b7-4d48-903e-20115d1fe61d')\"\n",
              "              title=\"Convert this dataframe to an interactive table.\"\n",
              "              style=\"display:none;\">\n",
              "        \n",
              "  <svg xmlns=\"http://www.w3.org/2000/svg\" height=\"24px\"viewBox=\"0 0 24 24\"\n",
              "       width=\"24px\">\n",
              "    <path d=\"M0 0h24v24H0V0z\" fill=\"none\"/>\n",
              "    <path d=\"M18.56 5.44l.94 2.06.94-2.06 2.06-.94-2.06-.94-.94-2.06-.94 2.06-2.06.94zm-11 1L8.5 8.5l.94-2.06 2.06-.94-2.06-.94L8.5 2.5l-.94 2.06-2.06.94zm10 10l.94 2.06.94-2.06 2.06-.94-2.06-.94-.94-2.06-.94 2.06-2.06.94z\"/><path d=\"M17.41 7.96l-1.37-1.37c-.4-.4-.92-.59-1.43-.59-.52 0-1.04.2-1.43.59L10.3 9.45l-7.72 7.72c-.78.78-.78 2.05 0 2.83L4 21.41c.39.39.9.59 1.41.59.51 0 1.02-.2 1.41-.59l7.78-7.78 2.81-2.81c.8-.78.8-2.07 0-2.86zM5.41 20L4 18.59l7.72-7.72 1.47 1.35L5.41 20z\"/>\n",
              "  </svg>\n",
              "      </button>\n",
              "      \n",
              "  <style>\n",
              "    .colab-df-container {\n",
              "      display:flex;\n",
              "      flex-wrap:wrap;\n",
              "      gap: 12px;\n",
              "    }\n",
              "\n",
              "    .colab-df-convert {\n",
              "      background-color: #E8F0FE;\n",
              "      border: none;\n",
              "      border-radius: 50%;\n",
              "      cursor: pointer;\n",
              "      display: none;\n",
              "      fill: #1967D2;\n",
              "      height: 32px;\n",
              "      padding: 0 0 0 0;\n",
              "      width: 32px;\n",
              "    }\n",
              "\n",
              "    .colab-df-convert:hover {\n",
              "      background-color: #E2EBFA;\n",
              "      box-shadow: 0px 1px 2px rgba(60, 64, 67, 0.3), 0px 1px 3px 1px rgba(60, 64, 67, 0.15);\n",
              "      fill: #174EA6;\n",
              "    }\n",
              "\n",
              "    [theme=dark] .colab-df-convert {\n",
              "      background-color: #3B4455;\n",
              "      fill: #D2E3FC;\n",
              "    }\n",
              "\n",
              "    [theme=dark] .colab-df-convert:hover {\n",
              "      background-color: #434B5C;\n",
              "      box-shadow: 0px 1px 3px 1px rgba(0, 0, 0, 0.15);\n",
              "      filter: drop-shadow(0px 1px 2px rgba(0, 0, 0, 0.3));\n",
              "      fill: #FFFFFF;\n",
              "    }\n",
              "  </style>\n",
              "\n",
              "      <script>\n",
              "        const buttonEl =\n",
              "          document.querySelector('#df-fa59de63-97b7-4d48-903e-20115d1fe61d button.colab-df-convert');\n",
              "        buttonEl.style.display =\n",
              "          google.colab.kernel.accessAllowed ? 'block' : 'none';\n",
              "\n",
              "        async function convertToInteractive(key) {\n",
              "          const element = document.querySelector('#df-fa59de63-97b7-4d48-903e-20115d1fe61d');\n",
              "          const dataTable =\n",
              "            await google.colab.kernel.invokeFunction('convertToInteractive',\n",
              "                                                     [key], {});\n",
              "          if (!dataTable) return;\n",
              "\n",
              "          const docLinkHtml = 'Like what you see? Visit the ' +\n",
              "            '<a target=\"_blank\" href=https://colab.research.google.com/notebooks/data_table.ipynb>data table notebook</a>'\n",
              "            + ' to learn more about interactive tables.';\n",
              "          element.innerHTML = '';\n",
              "          dataTable['output_type'] = 'display_data';\n",
              "          await google.colab.output.renderOutput(dataTable, element);\n",
              "          const docLink = document.createElement('div');\n",
              "          docLink.innerHTML = docLinkHtml;\n",
              "          element.appendChild(docLink);\n",
              "        }\n",
              "      </script>\n",
              "    </div>\n",
              "  </div>\n",
              "  "
            ]
          },
          "metadata": {},
          "execution_count": 59
        }
      ]
    },
    {
      "cell_type": "code",
      "source": [
        "\"\"\"\n",
        "Denver Nuggets a remporté quatres victoires contre Los Angeles Lakers lors de leurs affrontements sur le terrain de Denver Nuggets.\n",
        "\"\"\""
      ],
      "metadata": {
        "colab": {
          "base_uri": "https://localhost:8080/",
          "height": 36
        },
        "id": "9lZSwiMNRA3X",
        "outputId": "804779b4-68be-4863-bd49-01817535c4c3"
      },
      "execution_count": 60,
      "outputs": [
        {
          "output_type": "execute_result",
          "data": {
            "text/plain": [
              "'\\nDenver Nuggets a remporté quatres victoires contre Los Angeles Lakers lors de leurs affrontements sur le terrain de Denver Nuggets.\\n'"
            ],
            "application/vnd.google.colaboratory.intrinsic+json": {
              "type": "string"
            }
          },
          "metadata": {},
          "execution_count": 60
        }
      ]
    },
    {
      "cell_type": "code",
      "source": [
        "\"\"\"\n",
        "Les statistiques montrent que les Denver Nuggets remporteront la Conférence du Ouest.\n",
        "\"\"\""
      ],
      "metadata": {
        "colab": {
          "base_uri": "https://localhost:8080/",
          "height": 36
        },
        "id": "COGHIhktRcXY",
        "outputId": "84b97b12-577f-4a21-e0c9-c3a98264dc69"
      },
      "execution_count": 61,
      "outputs": [
        {
          "output_type": "execute_result",
          "data": {
            "text/plain": [
              "'\\nLes statistiques montrent que les Denver Nuggets remporteront la Conférence du Ouest.\\n'"
            ],
            "application/vnd.google.colaboratory.intrinsic+json": {
              "type": "string"
            }
          },
          "metadata": {},
          "execution_count": 61
        }
      ]
    },
    {
      "cell_type": "markdown",
      "source": [
        "Les prédictions des vainqueurs générées par le modèle de réseau neuronal, la régression logistique et le calcul statistique sont présentées dans le tableau ci-dessous.\n",
        "Selon les résultats, il semble que les Boston Celtics soient les favoris pour remporter la Conférence Est, tandis que les Denver Nuggets sont les favoris pour remporter la Conférence Ouest. En ce qui concerne la finale entre les Boston Celtics et les Denver Nuggets, les modèles prédisent que les Denver Nuggets seront les champions.\n",
        "\n",
        "\n",
        "![Screenshot from 2023-05-19 12-02-46.png](data:image/png;base64,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)\n",
        "\n",
        "\n",
        "\n",
        "\n"
      ],
      "metadata": {
        "id": "kEEM1hQ-dbDm"
      }
    },
    {
      "cell_type": "code",
      "source": [
        "\n",
        "\n",
        "game_result_pridected = {}\n",
        "for game in games_western_coded:\n",
        "  count_vecroty_LosAngelesLakers_visitor = len(df[ \n",
        "        ( (df['result'] == True) & (df['Visitor/Neutral'] == games_western_coded[game][2]) & (df['day'] == games_western_coded[game][1]) & (df['day_name'] == games_western_coded[game][0]) )\n",
        "  ])\n",
        "\n",
        "  count_vecroty_DenverNuggets_home = len(df[ \n",
        "        ( (df['result'] == False) & (df['Home/Neutral'] == games_western_coded[game][3]) & (df['day'] == games_western_coded[game][1]) & (df['day_name'] == games_western_coded[game][0]) )\n",
        "  ])\n",
        "  if count_vecroty_LosAngelesLakers_visitor != count_vecroty_DenverNuggets_home:\n",
        "    game_result_pridected[game] = {\n",
        "            'count_vecroty_'+games_western[game][2].replace(' ','')+'_visitor' : count_vecroty_LosAngelesLakers_visitor,\n",
        "            'count_vecroty_'+games_western[game][3].replace(' ','')+'_home' : count_vecroty_DenverNuggets_home,\n",
        "            'result' : games_western[game][2] if count_vecroty_LosAngelesLakers_visitor > count_vecroty_DenverNuggets_home else games_western[game][3],\n",
        "            'cond' :  ('result', 'day', 'day_name'),\n",
        "      }\n",
        "  else :  \n",
        "    # game_result_pridected[game] = None,count_vecroty_LosAngelesLakers_visitor\n",
        "\n",
        "    count_vecroty_LosAngelesLakers_visitor = len(df[ \n",
        "        ( (df['result'] == True) & (df['Visitor/Neutral'] == games_western_coded[game][2]) & (df['day'] == games_western_coded[game][1])  )\n",
        "    ])\n",
        "\n",
        "    count_vecroty_DenverNuggets_home = len(df[ \n",
        "          ( (df['result'] == False) & (df['Home/Neutral'] == games_western_coded[game][3]) & (df['day'] == games_western_coded[game][1]) )\n",
        "    ])\n",
        "\n",
        "    if count_vecroty_LosAngelesLakers_visitor != count_vecroty_DenverNuggets_home:\n",
        "      game_result_pridected[game] = {\n",
        "            'count_vecroty_'+games_western[game][2].replace(' ','')+'_visitor' : count_vecroty_LosAngelesLakers_visitor,\n",
        "            'count_vecroty_'+games_western[game][3].replace(' ','')+'_home' : count_vecroty_DenverNuggets_home,\n",
        "            'result' : games_western[game][2] if count_vecroty_LosAngelesLakers_visitor > count_vecroty_DenverNuggets_home else games_western[game][3],\n",
        "            'cond' : ('result', 'day'),\n",
        "      }\n",
        "    else:\n",
        "      count_vecroty_LosAngelesLakers_visitor = len(df[ \n",
        "        ( (df['result'] == True) & (df['Visitor/Neutral'] == games_western_coded[game][2]) & (df['day_name'] == games_western_coded[game][0])  )\n",
        "      ])\n",
        "\n",
        "      count_vecroty_DenverNuggets_home = len(df[ \n",
        "            ( (df['result'] == False) & (df['Home/Neutral'] == games_western_coded[game][3]) & (df['day_name'] == games_western_coded[game][0]) )\n",
        "      ])\n",
        "      if count_vecroty_LosAngelesLakers_visitor != count_vecroty_DenverNuggets_home:\n",
        "        game_result_pridected[game] = {\n",
        "            'count_vecroty_'+games_western[game][2].replace(' ','')+'_visitor' : count_vecroty_LosAngelesLakers_visitor,\n",
        "            'count_vecroty_'+games_western[game][3].replace(' ','')+'_home' : count_vecroty_DenverNuggets_home,\n",
        "            'result' : games_western[game][2] if count_vecroty_LosAngelesLakers_visitor > count_vecroty_DenverNuggets_home else games_western[game][3],\n",
        "            'cond' :  ('result', 'day_name'),\n",
        "        }\n",
        "  \n",
        "      else:\n",
        "\n",
        "        count_vecroty_LosAngelesLakers_visitor = len(df[ \n",
        "          ( (df['result'] == True) & (df['Visitor/Neutral'] == games_western_coded[game][2]))\n",
        "        ])\n",
        "\n",
        "        count_vecroty_DenverNuggets_home = len(df[ \n",
        "              ( (df['result'] == False) & (df['Home/Neutral'] == games_western_coded[game][3]))\n",
        "        ])\n",
        "\n",
        "        if count_vecroty_LosAngelesLakers_visitor != count_vecroty_DenverNuggets_home:\n",
        "          game_result_pridected[game] = {\n",
        "            'count_vecroty_'+games_western[game][2].replace(' ','')+'_visitor' : count_vecroty_LosAngelesLakers_visitor,\n",
        "            'count_vecroty_'+games_western[game][3].replace(' ','')+'_home' : count_vecroty_DenverNuggets_home,\n",
        "            'result' : games_western[game][2] if count_vecroty_LosAngelesLakers_visitor > count_vecroty_DenverNuggets_home else games_western[game][3],\n",
        "            'cond' :  ('result'),\n",
        "        }\n",
        "        else:\n",
        "          game_result_pridected[game] = None,count_vecroty_LosAngelesLakers_visitor\n"
      ],
      "metadata": {
        "id": "IKWTDU75-bz3"
      },
      "execution_count": 62,
      "outputs": []
    },
    {
      "cell_type": "code",
      "source": [
        "game_result_pridected"
      ],
      "metadata": {
        "colab": {
          "base_uri": "https://localhost:8080/"
        },
        "id": "X5AVJuB2-dzs",
        "outputId": "dfc02c14-d928-42d2-b7fd-0f05f588565b"
      },
      "execution_count": 63,
      "outputs": [
        {
          "output_type": "execute_result",
          "data": {
            "text/plain": [
              "{'Game 1': {'count_vecroty_LosAngelesLakers_visitor': 0,\n",
              "  'count_vecroty_DenverNuggets_home': 1,\n",
              "  'result': 'Denver Nuggets',\n",
              "  'cond': ('result', 'day', 'day_name')},\n",
              " 'Game 2': {'count_vecroty_LosAngelesLakers_visitor': 0,\n",
              "  'count_vecroty_DenverNuggets_home': 1,\n",
              "  'result': 'Denver Nuggets',\n",
              "  'cond': ('result', 'day', 'day_name')},\n",
              " 'Game 3': {'count_vecroty_DenverNuggets_visitor': 0,\n",
              "  'count_vecroty_LosAngelesLakers_home': 1,\n",
              "  'result': 'Los Angeles Lakers',\n",
              "  'cond': ('result', 'day', 'day_name')},\n",
              " 'Game 4': {'count_vecroty_DenverNuggets_visitor': 0,\n",
              "  'count_vecroty_LosAngelesLakers_home': 1,\n",
              "  'result': 'Los Angeles Lakers',\n",
              "  'cond': ('result', 'day', 'day_name')},\n",
              " 'Game 5': {'count_vecroty_LosAngelesLakers_visitor': 0,\n",
              "  'count_vecroty_DenverNuggets_home': 1,\n",
              "  'result': 'Denver Nuggets',\n",
              "  'cond': ('result', 'day', 'day_name')},\n",
              " 'Game 6': {'count_vecroty_DenverNuggets_visitor': 0,\n",
              "  'count_vecroty_LosAngelesLakers_home': 1,\n",
              "  'result': 'Los Angeles Lakers',\n",
              "  'cond': ('result', 'day', 'day_name')},\n",
              " 'Game 7': {'count_vecroty_LosAngelesLakers_visitor': 0,\n",
              "  'count_vecroty_DenverNuggets_home': 1,\n",
              "  'result': 'Denver Nuggets',\n",
              "  'cond': ('result', 'day', 'day_name')}}"
            ]
          },
          "metadata": {},
          "execution_count": 63
        }
      ]
    },
    {
      "cell_type": "code",
      "source": [
        "vectory_game_count_DenverNuggets = len([game_result_pridected[key]['result'] for key in game_result_pridected  if game_result_pridected[key]['result']=='Denver Nuggets'])\n",
        "vectory_game_count_LosAngelesLakers = len([game_result_pridected[key]['result'] for key in game_result_pridected  if game_result_pridected[key]['result']=='Los Angeles Lakers'])\n",
        "\n",
        "vectory_game_count_DenverNuggets, vectory_game_count_LosAngelesLakers"
      ],
      "metadata": {
        "colab": {
          "base_uri": "https://localhost:8080/"
        },
        "id": "t86fWvC87f2w",
        "outputId": "b6b02943-6fab-47ab-e527-3f92c5764fbb"
      },
      "execution_count": 64,
      "outputs": [
        {
          "output_type": "execute_result",
          "data": {
            "text/plain": [
              "(4, 3)"
            ]
          },
          "metadata": {},
          "execution_count": 64
        }
      ]
    },
    {
      "cell_type": "code",
      "source": [],
      "metadata": {
        "id": "manRH16X8PPn"
      },
      "execution_count": 64,
      "outputs": []
    }
  ]
}